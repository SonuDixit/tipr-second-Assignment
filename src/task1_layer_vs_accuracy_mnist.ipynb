{
 "cells": [
  {
   "cell_type": "code",
   "execution_count": 1,
   "metadata": {},
   "outputs": [],
   "source": [
    "import os\n",
    "from matplotlib.image import imread\n",
    "import numpy as np\n",
    "from sklearn.model_selection import train_test_split\n",
    "from matplotlib import pyplot as plt\n",
    "from NN import NN\n",
    "from helper_fns import prepare_train_test_mnist"
   ]
  },
  {
   "cell_type": "code",
   "execution_count": 2,
   "metadata": {},
   "outputs": [],
   "source": [
    "path = os.getcwd()\n",
    "data_path = os.path.join(os.path.dirname(path),\"Data\",\"MNIST\")"
   ]
  },
  {
   "cell_type": "code",
   "execution_count": 3,
   "metadata": {},
   "outputs": [
    {
     "data": {
      "text/plain": [
       "'H:\\\\sonu\\\\tipr\\\\Assignment2\\\\Data\\\\MNIST'"
      ]
     },
     "execution_count": 3,
     "metadata": {},
     "output_type": "execute_result"
    }
   ],
   "source": [
    "data_path"
   ]
  },
  {
   "cell_type": "code",
   "execution_count": 4,
   "metadata": {},
   "outputs": [],
   "source": [
    "data,label = prepare_train_test_mnist(data_path)"
   ]
  },
  {
   "cell_type": "code",
   "execution_count": 5,
   "metadata": {},
   "outputs": [
    {
     "data": {
      "text/plain": [
       "((42000, 784), (42000,))"
      ]
     },
     "execution_count": 5,
     "metadata": {},
     "output_type": "execute_result"
    }
   ],
   "source": [
    "data.shape,label.shape"
   ]
  },
  {
   "cell_type": "code",
   "execution_count": 6,
   "metadata": {},
   "outputs": [],
   "source": [
    "X_train, X_test, y_train, y_test = train_test_split(\n",
    "    data, label, test_size=0.50, random_state=42,shuffle = True)"
   ]
  },
  {
   "cell_type": "code",
   "execution_count": 7,
   "metadata": {},
   "outputs": [
    {
     "data": {
      "text/plain": [
       "((21000, 784), (21000, 784))"
      ]
     },
     "execution_count": 7,
     "metadata": {},
     "output_type": "execute_result"
    }
   ],
   "source": [
    "X_test.shape, X_train.shape"
   ]
  },
  {
   "cell_type": "code",
   "execution_count": 8,
   "metadata": {},
   "outputs": [],
   "source": [
    "y_tr_one_hot = np.zeros((y_train.shape[0],10))\n",
    "y_test_one_hot = np.zeros((y_test.shape[0],10))\n",
    "for i in range(y_train.shape[0]):\n",
    "    y_tr_one_hot[i,y_train[i]] = 1\n",
    "for i in range(y_test.shape[0]):\n",
    "    y_test_one_hot[i,y_test[i]] = 1"
   ]
  },
  {
   "cell_type": "code",
   "execution_count": 9,
   "metadata": {},
   "outputs": [
    {
     "data": {
      "text/plain": [
       "(array([0., 1., 0., 0., 0., 0., 0., 0., 0., 0.]),\n",
       " array([0., 0., 0., 1., 0., 0., 0., 0., 0., 0.]))"
      ]
     },
     "execution_count": 9,
     "metadata": {},
     "output_type": "execute_result"
    }
   ],
   "source": [
    "y_tr_one_hot[0], y_tr_one_hot[1]"
   ]
  },
  {
   "cell_type": "code",
   "execution_count": 10,
   "metadata": {},
   "outputs": [
    {
     "data": {
      "text/plain": [
       "(21000, 10)"
      ]
     },
     "execution_count": 10,
     "metadata": {},
     "output_type": "execute_result"
    }
   ],
   "source": [
    "y_tr_one_hot.shape"
   ]
  },
  {
   "cell_type": "code",
   "execution_count": 11,
   "metadata": {},
   "outputs": [],
   "source": [
    "net_3 = NN(hidden_layer=[30,30,30], activation=[\"swish\",\"relu\",\"relu\"], \n",
    "         input_dim=784,output_dim=10, momentum = 0.1)"
   ]
  },
  {
   "cell_type": "code",
   "execution_count": 12,
   "metadata": {},
   "outputs": [
    {
     "name": "stdout",
     "output_type": "stream",
     "text": [
      "epoch = 1 loss =1.0750551565745363\n",
      "epoch = 2 loss =0.3684404489550846\n",
      "training done\n"
     ]
    }
   ],
   "source": [
    "loss = net_3.fit_batch(X_train,y_tr_one_hot,epochs=2,lr=0.0001,batch_size=200)"
   ]
  },
  {
   "cell_type": "code",
   "execution_count": 14,
   "metadata": {},
   "outputs": [
    {
     "name": "stdout",
     "output_type": "stream",
     "text": [
      "epoch = 1 loss =0.20665918000077627\n",
      "epoch = 2 loss =0.1720252758917801\n",
      "epoch = 3 loss =0.15272799138246182\n",
      "epoch = 4 loss =0.1387107966787227\n",
      "training done\n"
     ]
    }
   ],
   "source": [
    "loss = net_3.fit_batch(X_train,y_tr_one_hot,epochs=4,lr=0.0001,batch_size=200)"
   ]
  },
  {
   "cell_type": "code",
   "execution_count": 16,
   "metadata": {},
   "outputs": [],
   "source": [
    "import pickle\n",
    "with open(\"net_mnist.pickle\",\"wb\") as f:\n",
    "    pickle.dump(net_3,f,pickle.HIGHEST_PROTOCOL)"
   ]
  },
  {
   "cell_type": "code",
   "execution_count": 17,
   "metadata": {},
   "outputs": [],
   "source": [
    "pred_vals = net_3.predict(X_test)"
   ]
  },
  {
   "cell_type": "code",
   "execution_count": 18,
   "metadata": {},
   "outputs": [],
   "source": [
    "from sklearn.metrics import accuracy_score"
   ]
  },
  {
   "cell_type": "code",
   "execution_count": 19,
   "metadata": {},
   "outputs": [
    {
     "data": {
      "text/plain": [
       "0.9443809523809524"
      ]
     },
     "execution_count": 19,
     "metadata": {},
     "output_type": "execute_result"
    }
   ],
   "source": [
    "accuracy_score(y_test,pred_vals)"
   ]
  },
  {
   "cell_type": "code",
   "execution_count": 18,
   "metadata": {},
   "outputs": [
    {
     "name": "stdout",
     "output_type": "stream",
     "text": [
      "0.9360774615354647\n"
     ]
    },
    {
     "data": {
      "text/plain": [
       "0.9368571428571428"
      ]
     },
     "execution_count": 18,
     "metadata": {},
     "output_type": "execute_result"
    }
   ],
   "source": [
    "from sklearn.metrics import f1_score\n",
    "print(f1_score(y_test, pred_vals, average='macro'))\n",
    "f1_score(y_test, pred_vals, average='micro') "
   ]
  },
  {
   "cell_type": "code",
   "execution_count": null,
   "metadata": {},
   "outputs": [],
   "source": [
    "net_4 = NN(hidden_layer=[30,30,30,10], activation=[\"swish\",\"relu\",\"relu\",\"relu\"], \n",
    "         input_dim=784,output_dim=10, momentum = 0.1)\n",
    "loss = net_4.fit_batch(X_train,y_tr_one_hot,epochs=2,lr=0.0001,batch_size=200)"
   ]
  },
  {
   "cell_type": "code",
   "execution_count": 19,
   "metadata": {},
   "outputs": [],
   "source": [
    "net_2 = NN(hidden_layer=[30,30], activation=[\"relu\",\"relu\"], \n",
    "         input_dim=784,output_dim=10, momentum = 0.1)"
   ]
  },
  {
   "cell_type": "code",
   "execution_count": 20,
   "metadata": {},
   "outputs": [
    {
     "name": "stderr",
     "output_type": "stream",
     "text": [
      "H:\\sonu\\tipr\\Assignment2\\src\\NN.py:8: RuntimeWarning: divide by zero encountered in log\n",
      "  return np.sum(-np.log(pred_array[np.where(true_array==1)]))\n"
     ]
    },
    {
     "name": "stdout",
     "output_type": "stream",
     "text": [
      "epoch = 1 loss =inf\n",
      "epoch = 2 loss =2.3019946685095234\n",
      "epoch = 3 loss =2.301672942496468\n",
      "epoch = 4 loss =2.3014738527496332\n",
      "epoch = 5 loss =2.301350980216322\n",
      "epoch = 6 loss =2.301275348876181\n",
      "epoch = 7 loss =2.3012289290241705\n",
      "epoch = 8 loss =2.3012005317645876\n",
      "epoch = 9 loss =2.3011832289082714\n",
      "epoch = 10 loss =2.301172738851732\n",
      "training done\n"
     ]
    }
   ],
   "source": [
    "loss = net_2.fit_batch(X_train,y_tr_one_hot,epochs=10,lr=0.0001,batch_size=200)"
   ]
  },
  {
   "cell_type": "code",
   "execution_count": 52,
   "metadata": {},
   "outputs": [
    {
     "name": "stdout",
     "output_type": "stream",
     "text": [
      "epoch = 1 loss =2.303592056619928\n",
      "epoch = 2 loss =2.303689883780238\n",
      "epoch = 3 loss =2.3036898837802378\n",
      "epoch = 4 loss =2.3036898837802378\n",
      "epoch = 5 loss =2.3036898837802378\n",
      "epoch = 6 loss =2.3036898837802378\n",
      "epoch = 7 loss =2.3036898837802378\n",
      "epoch = 8 loss =2.3036898837802378\n",
      "epoch = 9 loss =2.3036898837802378\n",
      "epoch = 10 loss =2.3036898837802378\n",
      "epoch = 11 loss =2.3036898837802378\n",
      "epoch = 12 loss =2.3036898837802378\n",
      "epoch = 13 loss =2.3036898837802378\n",
      "epoch = 14 loss =2.3036898837802378\n",
      "epoch = 15 loss =2.3036898837802378\n",
      "epoch = 16 loss =2.3036898837802378\n",
      "epoch = 17 loss =2.3036898837802378\n",
      "epoch = 18 loss =2.3036898837802378\n",
      "epoch = 19 loss =2.3036898837802378\n",
      "epoch = 20 loss =2.3036898837802378\n",
      "epoch = 21 loss =2.3036898837802378\n",
      "epoch = 22 loss =2.3036898837802378\n",
      "epoch = 23 loss =2.3036898837802378\n",
      "epoch = 24 loss =2.3036898837802378\n",
      "epoch = 25 loss =2.3036898837802378\n",
      "epoch = 26 loss =2.3036898837802378\n",
      "epoch = 27 loss =2.3036898837802378\n"
     ]
    },
    {
     "ename": "KeyboardInterrupt",
     "evalue": "",
     "output_type": "error",
     "traceback": [
      "\u001b[1;31m---------------------------------------------------------------------------\u001b[0m",
      "\u001b[1;31mKeyboardInterrupt\u001b[0m                         Traceback (most recent call last)",
      "\u001b[1;32m<ipython-input-52-8a13ba7a1da5>\u001b[0m in \u001b[0;36m<module>\u001b[1;34m()\u001b[0m\n\u001b[1;32m----> 1\u001b[1;33m \u001b[0mloss\u001b[0m \u001b[1;33m=\u001b[0m \u001b[0mnet_2\u001b[0m\u001b[1;33m.\u001b[0m\u001b[0mfit_batch\u001b[0m\u001b[1;33m(\u001b[0m\u001b[0mX_train\u001b[0m\u001b[1;33m,\u001b[0m\u001b[0my_tr_one_hot\u001b[0m\u001b[1;33m,\u001b[0m\u001b[0mepochs\u001b[0m\u001b[1;33m=\u001b[0m\u001b[1;36m50\u001b[0m\u001b[1;33m,\u001b[0m\u001b[0mlr\u001b[0m\u001b[1;33m=\u001b[0m\u001b[1;36m0.01\u001b[0m\u001b[1;33m,\u001b[0m \u001b[0mbatch_size\u001b[0m\u001b[1;33m=\u001b[0m\u001b[1;36m200\u001b[0m\u001b[1;33m)\u001b[0m\u001b[1;33m\u001b[0m\u001b[0m\n\u001b[0m",
      "\u001b[1;32mH:\\sonu\\tipr\\Assignment2\\src\\NN.py\u001b[0m in \u001b[0;36mfit_batch\u001b[1;34m(self, input_x, y_train, epochs, lr, batch_size)\u001b[0m\n\u001b[0;32m     82\u001b[0m                 \u001b[0mbatch_loss\u001b[0m \u001b[1;33m=\u001b[0m \u001b[1;36m0\u001b[0m\u001b[1;33m\u001b[0m\u001b[0m\n\u001b[0;32m     83\u001b[0m                 \u001b[1;32mfor\u001b[0m \u001b[0mk\u001b[0m \u001b[1;32min\u001b[0m \u001b[0mrange\u001b[0m\u001b[1;33m(\u001b[0m\u001b[0mbatch_size\u001b[0m\u001b[1;33m)\u001b[0m\u001b[1;33m:\u001b[0m\u001b[1;33m\u001b[0m\u001b[0m\n\u001b[1;32m---> 84\u001b[1;33m                     \u001b[0mpred_vals\u001b[0m \u001b[1;33m=\u001b[0m \u001b[0mself\u001b[0m\u001b[1;33m.\u001b[0m\u001b[0mforward\u001b[0m\u001b[1;33m(\u001b[0m\u001b[0minput_x\u001b[0m\u001b[1;33m[\u001b[0m\u001b[0mj\u001b[0m \u001b[1;33m+\u001b[0m \u001b[0mk\u001b[0m\u001b[1;33m]\u001b[0m\u001b[1;33m)\u001b[0m\u001b[1;33m\u001b[0m\u001b[0m\n\u001b[0m\u001b[0;32m     85\u001b[0m                     \u001b[0mloss\u001b[0m \u001b[1;33m+=\u001b[0m \u001b[0mCE_error\u001b[0m\u001b[1;33m(\u001b[0m\u001b[0mpred_vals\u001b[0m\u001b[1;33m,\u001b[0m \u001b[0my_train\u001b[0m\u001b[1;33m[\u001b[0m\u001b[0mj\u001b[0m \u001b[1;33m+\u001b[0m \u001b[0mk\u001b[0m\u001b[1;33m]\u001b[0m\u001b[1;33m)\u001b[0m\u001b[1;33m\u001b[0m\u001b[0m\n\u001b[0;32m     86\u001b[0m                     \u001b[0mself\u001b[0m\u001b[1;33m.\u001b[0m\u001b[0mbackward_batch\u001b[0m\u001b[1;33m(\u001b[0m\u001b[0mpred_vals\u001b[0m \u001b[1;33m-\u001b[0m \u001b[0my_train\u001b[0m\u001b[1;33m[\u001b[0m\u001b[0mj\u001b[0m \u001b[1;33m+\u001b[0m \u001b[0mk\u001b[0m\u001b[1;33m]\u001b[0m\u001b[1;33m,\u001b[0m \u001b[0mlr\u001b[0m\u001b[1;33m)\u001b[0m\u001b[1;33m\u001b[0m\u001b[0m\n",
      "\u001b[1;32mH:\\sonu\\tipr\\Assignment2\\src\\NN.py\u001b[0m in \u001b[0;36mforward\u001b[1;34m(self, input_x)\u001b[0m\n\u001b[0;32m     25\u001b[0m     \u001b[1;32mdef\u001b[0m \u001b[0mforward\u001b[0m\u001b[1;33m(\u001b[0m\u001b[0mself\u001b[0m\u001b[1;33m,\u001b[0m \u001b[0minput_x\u001b[0m\u001b[1;33m)\u001b[0m\u001b[1;33m:\u001b[0m\u001b[1;33m\u001b[0m\u001b[0m\n\u001b[0;32m     26\u001b[0m         \u001b[1;32mfor\u001b[0m \u001b[0ml\u001b[0m \u001b[1;32min\u001b[0m \u001b[0mself\u001b[0m\u001b[1;33m.\u001b[0m\u001b[0mlayers\u001b[0m\u001b[1;33m:\u001b[0m\u001b[1;33m\u001b[0m\u001b[0m\n\u001b[1;32m---> 27\u001b[1;33m             \u001b[0minput_x\u001b[0m \u001b[1;33m=\u001b[0m \u001b[0ml\u001b[0m\u001b[1;33m.\u001b[0m\u001b[0mforward_prop\u001b[0m\u001b[1;33m(\u001b[0m\u001b[0minput_x\u001b[0m\u001b[1;33m)\u001b[0m\u001b[1;33m\u001b[0m\u001b[0m\n\u001b[0m\u001b[0;32m     28\u001b[0m         \u001b[1;32mreturn\u001b[0m \u001b[0minput_x\u001b[0m\u001b[1;33m\u001b[0m\u001b[0m\n\u001b[0;32m     29\u001b[0m \u001b[1;33m\u001b[0m\u001b[0m\n",
      "\u001b[1;32mH:\\sonu\\tipr\\Assignment2\\src\\layer.py\u001b[0m in \u001b[0;36mforward_prop\u001b[1;34m(self, input_data)\u001b[0m\n\u001b[0;32m     47\u001b[0m         \u001b[0mself\u001b[0m\u001b[1;33m.\u001b[0m\u001b[0minput\u001b[0m \u001b[1;33m=\u001b[0m \u001b[0minput_data\u001b[0m\u001b[1;33m\u001b[0m\u001b[0m\n\u001b[0;32m     48\u001b[0m         \u001b[1;31m# print(\"input dta is\",self.input)\u001b[0m\u001b[1;33m\u001b[0m\u001b[1;33m\u001b[0m\u001b[0m\n\u001b[1;32m---> 49\u001b[1;33m         \u001b[0mtemp\u001b[0m \u001b[1;33m=\u001b[0m \u001b[0mnp\u001b[0m\u001b[1;33m.\u001b[0m\u001b[0mmatmul\u001b[0m\u001b[1;33m(\u001b[0m\u001b[0mself\u001b[0m\u001b[1;33m.\u001b[0m\u001b[0mweights\u001b[0m\u001b[1;33m.\u001b[0m\u001b[0mT\u001b[0m\u001b[1;33m,\u001b[0m\u001b[0mself\u001b[0m\u001b[1;33m.\u001b[0m\u001b[0minput\u001b[0m\u001b[1;33m)\u001b[0m \u001b[1;33m+\u001b[0m \u001b[0mself\u001b[0m\u001b[1;33m.\u001b[0m\u001b[0mbiases\u001b[0m\u001b[1;33m\u001b[0m\u001b[0m\n\u001b[0m\u001b[0;32m     50\u001b[0m         \u001b[0mself\u001b[0m\u001b[1;33m.\u001b[0m\u001b[0msum_of_incoming\u001b[0m \u001b[1;33m=\u001b[0m \u001b[0mtemp\u001b[0m\u001b[1;33m.\u001b[0m\u001b[0mreshape\u001b[0m\u001b[1;33m(\u001b[0m\u001b[1;33m(\u001b[0m\u001b[0mtemp\u001b[0m\u001b[1;33m.\u001b[0m\u001b[0mshape\u001b[0m\u001b[1;33m[\u001b[0m\u001b[1;36m0\u001b[0m\u001b[1;33m]\u001b[0m\u001b[1;33m,\u001b[0m\u001b[1;33m)\u001b[0m\u001b[1;33m)\u001b[0m\u001b[1;33m\u001b[0m\u001b[0m\n\u001b[0;32m     51\u001b[0m         \u001b[0mself\u001b[0m\u001b[1;33m.\u001b[0m\u001b[0moutput\u001b[0m \u001b[1;33m=\u001b[0m \u001b[0mapply_activation_fun\u001b[0m\u001b[1;33m(\u001b[0m\u001b[0mtemp\u001b[0m\u001b[1;33m,\u001b[0m\u001b[0mself\u001b[0m\u001b[1;33m.\u001b[0m\u001b[0mactivation\u001b[0m\u001b[1;33m)\u001b[0m\u001b[1;33m\u001b[0m\u001b[0m\n",
      "\u001b[1;31mKeyboardInterrupt\u001b[0m: "
     ]
    }
   ],
   "source": [
    "loss = net_2.fit_batch(X_train,y_tr_one_hot,epochs=50,lr=0.01, batch_size=200)"
   ]
  },
  {
   "cell_type": "code",
   "execution_count": 33,
   "metadata": {},
   "outputs": [
    {
     "name": "stdout",
     "output_type": "stream",
     "text": [
      "epoch = 1 loss =2.3061643041848674\n",
      "epoch = 2 loss =2.306626550278871\n",
      "epoch = 3 loss =2.3066265516320925\n",
      "epoch = 4 loss =2.3066265516321005\n",
      "epoch = 5 loss =2.3066265516321005\n",
      "epoch = 6 loss =2.3066265516321005\n",
      "epoch = 7 loss =2.3066265516321005\n",
      "epoch = 8 loss =2.3066265516321005\n",
      "epoch = 9 loss =2.3066265516321005\n",
      "epoch = 10 loss =2.3066265516321005\n",
      "training done\n"
     ]
    }
   ],
   "source": [
    "loss = net_2.fit_batch(X_train,y_tr_one_hot,epochs=10,lr=0.005,batch_size=200)"
   ]
  },
  {
   "cell_type": "code",
   "execution_count": 34,
   "metadata": {},
   "outputs": [
    {
     "name": "stdout",
     "output_type": "stream",
     "text": [
      "epoch = 1 loss =2.313841236045094\n",
      "epoch = 2 loss =2.314299172427083\n",
      "epoch = 3 loss =2.314299172433143\n",
      "epoch = 4 loss =2.314299172433106\n",
      "epoch = 5 loss =2.314299172433106\n",
      "epoch = 6 loss =2.314299172433106\n"
     ]
    },
    {
     "ename": "KeyboardInterrupt",
     "evalue": "",
     "output_type": "error",
     "traceback": [
      "\u001b[1;31m---------------------------------------------------------------------------\u001b[0m",
      "\u001b[1;31mKeyboardInterrupt\u001b[0m                         Traceback (most recent call last)",
      "\u001b[1;32m<ipython-input-34-fc7cdb2845b9>\u001b[0m in \u001b[0;36m<module>\u001b[1;34m()\u001b[0m\n\u001b[1;32m----> 1\u001b[1;33m \u001b[0mloss\u001b[0m \u001b[1;33m=\u001b[0m \u001b[0mnet_2\u001b[0m\u001b[1;33m.\u001b[0m\u001b[0mfit_batch\u001b[0m\u001b[1;33m(\u001b[0m\u001b[0mX_train\u001b[0m\u001b[1;33m,\u001b[0m\u001b[0my_tr_one_hot\u001b[0m\u001b[1;33m,\u001b[0m\u001b[0mepochs\u001b[0m\u001b[1;33m=\u001b[0m\u001b[1;36m10\u001b[0m\u001b[1;33m,\u001b[0m\u001b[0mlr\u001b[0m\u001b[1;33m=\u001b[0m\u001b[1;36m0.01\u001b[0m\u001b[1;33m,\u001b[0m\u001b[0mbatch_size\u001b[0m\u001b[1;33m=\u001b[0m\u001b[1;36m200\u001b[0m\u001b[1;33m)\u001b[0m\u001b[1;33m\u001b[0m\u001b[0m\n\u001b[0m",
      "\u001b[1;32mH:\\sonu\\tipr\\Assignment2\\src\\NN.py\u001b[0m in \u001b[0;36mfit_batch\u001b[1;34m(self, input_x, y_train, epochs, lr, batch_size)\u001b[0m\n\u001b[0;32m     82\u001b[0m                 \u001b[0mbatch_loss\u001b[0m \u001b[1;33m=\u001b[0m \u001b[1;36m0\u001b[0m\u001b[1;33m\u001b[0m\u001b[0m\n\u001b[0;32m     83\u001b[0m                 \u001b[1;32mfor\u001b[0m \u001b[0mk\u001b[0m \u001b[1;32min\u001b[0m \u001b[0mrange\u001b[0m\u001b[1;33m(\u001b[0m\u001b[0mbatch_size\u001b[0m\u001b[1;33m)\u001b[0m\u001b[1;33m:\u001b[0m\u001b[1;33m\u001b[0m\u001b[0m\n\u001b[1;32m---> 84\u001b[1;33m                     \u001b[0mpred_vals\u001b[0m \u001b[1;33m=\u001b[0m \u001b[0mself\u001b[0m\u001b[1;33m.\u001b[0m\u001b[0mforward\u001b[0m\u001b[1;33m(\u001b[0m\u001b[0minput_x\u001b[0m\u001b[1;33m[\u001b[0m\u001b[0mj\u001b[0m \u001b[1;33m+\u001b[0m \u001b[0mk\u001b[0m\u001b[1;33m]\u001b[0m\u001b[1;33m)\u001b[0m\u001b[1;33m\u001b[0m\u001b[0m\n\u001b[0m\u001b[0;32m     85\u001b[0m                     \u001b[0mloss\u001b[0m \u001b[1;33m+=\u001b[0m \u001b[0mCE_error\u001b[0m\u001b[1;33m(\u001b[0m\u001b[0mpred_vals\u001b[0m\u001b[1;33m,\u001b[0m \u001b[0my_train\u001b[0m\u001b[1;33m[\u001b[0m\u001b[0mj\u001b[0m \u001b[1;33m+\u001b[0m \u001b[0mk\u001b[0m\u001b[1;33m]\u001b[0m\u001b[1;33m)\u001b[0m\u001b[1;33m\u001b[0m\u001b[0m\n\u001b[0;32m     86\u001b[0m                     \u001b[0mself\u001b[0m\u001b[1;33m.\u001b[0m\u001b[0mbackward_batch\u001b[0m\u001b[1;33m(\u001b[0m\u001b[0mpred_vals\u001b[0m \u001b[1;33m-\u001b[0m \u001b[0my_train\u001b[0m\u001b[1;33m[\u001b[0m\u001b[0mj\u001b[0m \u001b[1;33m+\u001b[0m \u001b[0mk\u001b[0m\u001b[1;33m]\u001b[0m\u001b[1;33m,\u001b[0m \u001b[0mlr\u001b[0m\u001b[1;33m)\u001b[0m\u001b[1;33m\u001b[0m\u001b[0m\n",
      "\u001b[1;32mH:\\sonu\\tipr\\Assignment2\\src\\NN.py\u001b[0m in \u001b[0;36mforward\u001b[1;34m(self, input_x)\u001b[0m\n\u001b[0;32m     25\u001b[0m     \u001b[1;32mdef\u001b[0m \u001b[0mforward\u001b[0m\u001b[1;33m(\u001b[0m\u001b[0mself\u001b[0m\u001b[1;33m,\u001b[0m \u001b[0minput_x\u001b[0m\u001b[1;33m)\u001b[0m\u001b[1;33m:\u001b[0m\u001b[1;33m\u001b[0m\u001b[0m\n\u001b[0;32m     26\u001b[0m         \u001b[1;32mfor\u001b[0m \u001b[0ml\u001b[0m \u001b[1;32min\u001b[0m \u001b[0mself\u001b[0m\u001b[1;33m.\u001b[0m\u001b[0mlayers\u001b[0m\u001b[1;33m:\u001b[0m\u001b[1;33m\u001b[0m\u001b[0m\n\u001b[1;32m---> 27\u001b[1;33m             \u001b[0minput_x\u001b[0m \u001b[1;33m=\u001b[0m \u001b[0ml\u001b[0m\u001b[1;33m.\u001b[0m\u001b[0mforward_prop\u001b[0m\u001b[1;33m(\u001b[0m\u001b[0minput_x\u001b[0m\u001b[1;33m)\u001b[0m\u001b[1;33m\u001b[0m\u001b[0m\n\u001b[0m\u001b[0;32m     28\u001b[0m         \u001b[1;32mreturn\u001b[0m \u001b[0minput_x\u001b[0m\u001b[1;33m\u001b[0m\u001b[0m\n\u001b[0;32m     29\u001b[0m \u001b[1;33m\u001b[0m\u001b[0m\n",
      "\u001b[1;32mH:\\sonu\\tipr\\Assignment2\\src\\layer.py\u001b[0m in \u001b[0;36mforward_prop\u001b[1;34m(self, input_data)\u001b[0m\n\u001b[0;32m     47\u001b[0m         \u001b[0mself\u001b[0m\u001b[1;33m.\u001b[0m\u001b[0minput\u001b[0m \u001b[1;33m=\u001b[0m \u001b[0minput_data\u001b[0m\u001b[1;33m\u001b[0m\u001b[0m\n\u001b[0;32m     48\u001b[0m         \u001b[1;31m# print(\"input dta is\",self.input)\u001b[0m\u001b[1;33m\u001b[0m\u001b[1;33m\u001b[0m\u001b[0m\n\u001b[1;32m---> 49\u001b[1;33m         \u001b[0mtemp\u001b[0m \u001b[1;33m=\u001b[0m \u001b[0mnp\u001b[0m\u001b[1;33m.\u001b[0m\u001b[0mmatmul\u001b[0m\u001b[1;33m(\u001b[0m\u001b[0mself\u001b[0m\u001b[1;33m.\u001b[0m\u001b[0mweights\u001b[0m\u001b[1;33m.\u001b[0m\u001b[0mT\u001b[0m\u001b[1;33m,\u001b[0m\u001b[0mself\u001b[0m\u001b[1;33m.\u001b[0m\u001b[0minput\u001b[0m\u001b[1;33m)\u001b[0m \u001b[1;33m+\u001b[0m \u001b[0mself\u001b[0m\u001b[1;33m.\u001b[0m\u001b[0mbiases\u001b[0m\u001b[1;33m\u001b[0m\u001b[0m\n\u001b[0m\u001b[0;32m     50\u001b[0m         \u001b[0mself\u001b[0m\u001b[1;33m.\u001b[0m\u001b[0msum_of_incoming\u001b[0m \u001b[1;33m=\u001b[0m \u001b[0mtemp\u001b[0m\u001b[1;33m.\u001b[0m\u001b[0mreshape\u001b[0m\u001b[1;33m(\u001b[0m\u001b[1;33m(\u001b[0m\u001b[0mtemp\u001b[0m\u001b[1;33m.\u001b[0m\u001b[0mshape\u001b[0m\u001b[1;33m[\u001b[0m\u001b[1;36m0\u001b[0m\u001b[1;33m]\u001b[0m\u001b[1;33m,\u001b[0m\u001b[1;33m)\u001b[0m\u001b[1;33m)\u001b[0m\u001b[1;33m\u001b[0m\u001b[0m\n\u001b[0;32m     51\u001b[0m         \u001b[0mself\u001b[0m\u001b[1;33m.\u001b[0m\u001b[0moutput\u001b[0m \u001b[1;33m=\u001b[0m \u001b[0mapply_activation_fun\u001b[0m\u001b[1;33m(\u001b[0m\u001b[0mtemp\u001b[0m\u001b[1;33m,\u001b[0m\u001b[0mself\u001b[0m\u001b[1;33m.\u001b[0m\u001b[0mactivation\u001b[0m\u001b[1;33m)\u001b[0m\u001b[1;33m\u001b[0m\u001b[0m\n",
      "\u001b[1;31mKeyboardInterrupt\u001b[0m: "
     ]
    }
   ],
   "source": [
    "loss = net_2.fit_batch(X_train,y_tr_one_hot,epochs=10,lr=0.01,batch_size=200)"
   ]
  },
  {
   "cell_type": "code",
   "execution_count": 30,
   "metadata": {},
   "outputs": [
    {
     "data": {
      "text/plain": [
       "array([2, 0], dtype=int64)"
      ]
     },
     "execution_count": 30,
     "metadata": {},
     "output_type": "execute_result"
    }
   ],
   "source": [
    "a =np.array([[1,2,3],[3,2,1]])\n",
    "np.argmax(a,axis=1)"
   ]
  },
  {
   "cell_type": "code",
   "execution_count": 63,
   "metadata": {},
   "outputs": [
    {
     "name": "stdout",
     "output_type": "stream",
     "text": [
      "epoch = 1 loss =1.969155621419261\n",
      "epoch = 2 loss =1.9686051929685253\n",
      "epoch = 3 loss =1.968283035501524\n",
      "epoch = 4 loss =1.968098827096417\n",
      "epoch = 5 loss =1.9679794014897287\n",
      "epoch = 6 loss =1.9678956405439196\n",
      "epoch = 7 loss =1.9678336239231653\n",
      "epoch = 8 loss =1.9677858487283846\n",
      "epoch = 9 loss =1.9677479106121551\n",
      "epoch = 10 loss =1.9677170528588963\n",
      "epoch = 11 loss =1.9676914613873289\n",
      "epoch = 12 loss =1.9676698933790893\n",
      "training done\n"
     ]
    }
   ],
   "source": [
    "loss = net.fit_batch(X_train,y_tr_one_hot,epochs=12,lr=0.01,batch_size=200)"
   ]
  },
  {
   "cell_type": "code",
   "execution_count": 64,
   "metadata": {},
   "outputs": [
    {
     "name": "stdout",
     "output_type": "stream",
     "text": [
      "epoch = 1 loss =1.9791090284300783\n",
      "epoch = 2 loss =1.979316276777669\n",
      "epoch = 3 loss =1.979287547687667\n",
      "epoch = 4 loss =1.979267263272366\n",
      "epoch = 5 loss =1.979252172455619\n",
      "epoch = 6 loss =1.9792405048685808\n",
      "epoch = 7 loss =1.9792312133518222\n",
      "epoch = 8 loss =1.9792236386262012\n",
      "epoch = 9 loss =1.9792173448152401\n",
      "epoch = 10 loss =1.9792120321595432\n",
      "epoch = 11 loss =1.9792074877074097\n",
      "epoch = 12 loss =1.9792035560002128\n",
      "training done\n"
     ]
    }
   ],
   "source": [
    "loss = net.fit_batch(X_train,y_tr_one_hot,epochs=12,lr=0.04,batch_size=200)"
   ]
  },
  {
   "cell_type": "code",
   "execution_count": 23,
   "metadata": {},
   "outputs": [
    {
     "name": "stdout",
     "output_type": "stream",
     "text": [
      "epoch = 1 loss =2.301578225014236\n",
      "epoch = 2 loss =2.301520858452029\n",
      "training done\n"
     ]
    }
   ],
   "source": [
    "loss = net.fit_batch(X_train,y_tr_one_hot,epochs=2,lr=0.0005,batch_size=200)"
   ]
  },
  {
   "cell_type": "code",
   "execution_count": 24,
   "metadata": {},
   "outputs": [
    {
     "name": "stdout",
     "output_type": "stream",
     "text": [
      "epoch = 1 loss =2.301644540509039\n",
      "epoch = 2 loss =2.301674019277117\n",
      "training done\n"
     ]
    }
   ],
   "source": [
    "loss = net.fit_batch(X_train,y_tr_one_hot,epochs=2,lr=0.001,batch_size=200)"
   ]
  },
  {
   "cell_type": "code",
   "execution_count": 25,
   "metadata": {},
   "outputs": [
    {
     "name": "stdout",
     "output_type": "stream",
     "text": [
      "epoch = 1 loss =2.3014669635944167\n",
      "epoch = 2 loss =2.3014273358569963\n",
      "epoch = 3 loss =2.301403042995998\n",
      "epoch = 4 loss =2.3013880401177196\n",
      "training done\n"
     ]
    }
   ],
   "source": [
    "loss = net.fit_batch(X_train,y_tr_one_hot,epochs=4,lr=0.0001,batch_size=200)"
   ]
  },
  {
   "cell_type": "code",
   "execution_count": 33,
   "metadata": {},
   "outputs": [
    {
     "name": "stdout",
     "output_type": "stream",
     "text": [
      "epoch = 1 loss =4.11449615926462\n",
      "epoch = 2 loss =2.033490088291349\n",
      "epoch = 3 loss =2.022017392097872\n",
      "epoch = 4 loss =2.013765864485916\n",
      "epoch = 5 loss =2.0075664822386585\n",
      "epoch = 6 loss =2.0027476327373965\n",
      "epoch = 7 loss =1.9988985466771148\n",
      "epoch = 8 loss =1.9957551501849138\n",
      "epoch = 9 loss =1.9931405735454135\n",
      "epoch = 10 loss =1.9909321971463951\n",
      "epoch = 11 loss =1.98904246813658\n",
      "epoch = 12 loss =1.9874072593414323\n",
      "epoch = 13 loss =1.9859785486965935\n",
      "epoch = 14 loss =1.9847196700140726\n",
      "epoch = 15 loss =1.9836021457303699\n",
      "epoch = 16 loss =1.9826035219519116\n",
      "epoch = 17 loss =1.9817058554619804\n",
      "epoch = 18 loss =1.9808946350093863\n",
      "epoch = 19 loss =1.980157998207269\n",
      "epoch = 20 loss =1.9794861536558948\n",
      "training done\n"
     ]
    }
   ],
   "source": [
    "net2 = NN(hidden_layer=[30,30], activation=[\"relu\",\"relu\"], \n",
    "         input_dim=784,output_dim=10,momentum= 0.1)\n",
    "loss = net2.fit_batch(X_train,y_tr_one_hot,epochs=20,lr=0.0001,batch_size=200)"
   ]
  },
  {
   "cell_type": "code",
   "execution_count": 34,
   "metadata": {},
   "outputs": [
    {
     "name": "stdout",
     "output_type": "stream",
     "text": [
      "epoch = 1 loss =1.977038458769672\n",
      "epoch = 2 loss =1.9739261768582055\n",
      "epoch = 3 loss =1.9721096264575857\n",
      "epoch = 4 loss =1.9709243745791505\n",
      "training done\n"
     ]
    }
   ],
   "source": [
    "loss = net2.fit_batch(X_train,y_tr_one_hot,epochs=4,lr=0.001,batch_size=200)"
   ]
  },
  {
   "cell_type": "code",
   "execution_count": 35,
   "metadata": {},
   "outputs": [
    {
     "name": "stdout",
     "output_type": "stream",
     "text": [
      "epoch = 1 loss =1.9699684121555023\n",
      "epoch = 2 loss =1.9690407791704079\n",
      "training done\n"
     ]
    }
   ],
   "source": [
    "loss = net2.fit_batch(X_train,y_tr_one_hot,epochs=2,lr=0.002,batch_size=200)"
   ]
  },
  {
   "cell_type": "code",
   "execution_count": 36,
   "metadata": {},
   "outputs": [
    {
     "name": "stdout",
     "output_type": "stream",
     "text": [
      "epoch = 1 loss =1.9684145782020532\n",
      "epoch = 2 loss =1.967978506390114\n",
      "epoch = 3 loss =1.9676573748252135\n",
      "epoch = 4 loss =1.9674110034488925\n",
      "epoch = 5 loss =1.9672159957744997\n",
      "epoch = 6 loss =1.9670578000470453\n",
      "epoch = 7 loss =1.9669268889476006\n",
      "epoch = 8 loss =1.9668167626570496\n",
      "epoch = 9 loss =1.9667228344771366\n",
      "epoch = 10 loss =1.9666417750457823\n",
      "training done\n"
     ]
    }
   ],
   "source": [
    "loss = net2.fit_batch(X_train,y_tr_one_hot,epochs=10,lr=0.002,batch_size=200)"
   ]
  },
  {
   "cell_type": "code",
   "execution_count": 37,
   "metadata": {},
   "outputs": [
    {
     "name": "stdout",
     "output_type": "stream",
     "text": [
      "epoch = 1 loss =1.967719222119749\n",
      "epoch = 2 loss =1.9676709977974003\n",
      "epoch = 3 loss =1.9675485273118252\n",
      "epoch = 4 loss =1.9674599049201187\n",
      "epoch = 5 loss =1.9673927869326668\n",
      "epoch = 6 loss =1.967340186289589\n",
      "epoch = 7 loss =1.9672978492123836\n",
      "epoch = 8 loss =1.9672630369296968\n",
      "epoch = 9 loss =1.9672339060068358\n",
      "epoch = 10 loss =1.967209169958365\n",
      "training done\n"
     ]
    }
   ],
   "source": [
    "loss = net2.fit_batch(X_train,y_tr_one_hot,epochs=10,lr=0.008,batch_size=200)"
   ]
  },
  {
   "cell_type": "code",
   "execution_count": 38,
   "metadata": {},
   "outputs": [
    {
     "name": "stdout",
     "output_type": "stream",
     "text": [
      "epoch = 1 loss =4.433801039178389\n",
      "epoch = 2 loss =2.302101165295786\n",
      "epoch = 3 loss =2.301809146342971\n",
      "epoch = 4 loss =2.301632722340654\n",
      "epoch = 5 loss =2.301526099539507\n",
      "epoch = 6 loss =2.3014616097052185\n",
      "epoch = 7 loss =2.30142255408468\n",
      "epoch = 8 loss =2.301398860165759\n",
      "epoch = 9 loss =2.301384452962038\n",
      "epoch = 10 loss =2.301375667370853\n",
      "training done\n"
     ]
    }
   ],
   "source": [
    "net1 = NN(hidden_layer=[40], activation=[\"swish\"], \n",
    "         input_dim=784,output_dim=10,momentum = 0.4)\n",
    "loss = net1.fit_batch(X_train,y_tr_one_hot,epochs=10,lr=0.0001,batch_size=200)"
   ]
  },
  {
   "cell_type": "code",
   "execution_count": 39,
   "metadata": {},
   "outputs": [
    {
     "name": "stdout",
     "output_type": "stream",
     "text": [
      "epoch = 1 loss =2.303775149004516\n",
      "epoch = 2 loss =2.303931856824324\n",
      "epoch = 3 loss =2.303931856824324\n",
      "epoch = 4 loss =2.303931856824324\n",
      "epoch = 5 loss =2.303931856824324\n",
      "epoch = 6 loss =2.303931856824324\n",
      "epoch = 7 loss =2.303931856824324\n",
      "epoch = 8 loss =2.303931856824324\n",
      "epoch = 9 loss =2.303931856824324\n",
      "epoch = 10 loss =2.303931856824324\n",
      "training done\n"
     ]
    }
   ],
   "source": [
    "loss = net3.fit_batch(X_train,y_tr_one_hot,epochs=10,lr=0.01,batch_size=200)"
   ]
  }
 ],
 "metadata": {
  "kernelspec": {
   "display_name": "Python 3",
   "language": "python",
   "name": "python3"
  },
  "language_info": {
   "codemirror_mode": {
    "name": "ipython",
    "version": 3
   },
   "file_extension": ".py",
   "mimetype": "text/x-python",
   "name": "python",
   "nbconvert_exporter": "python",
   "pygments_lexer": "ipython3",
   "version": "3.6.5"
  }
 },
 "nbformat": 4,
 "nbformat_minor": 2
}
