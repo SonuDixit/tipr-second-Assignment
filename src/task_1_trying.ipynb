{
 "cells": [
  {
   "cell_type": "code",
   "execution_count": 1,
   "metadata": {},
   "outputs": [],
   "source": [
    "import os\n",
    "from matplotlib.image import imread\n",
    "import numpy as np\n",
    "from sklearn.model_selection import train_test_split\n",
    "from matplotlib import pyplot as plt\n",
    "from NN import NN\n",
    "from helper_fns import prepare_train_test_mnist"
   ]
  },
  {
   "cell_type": "code",
   "execution_count": 2,
   "metadata": {},
   "outputs": [],
   "source": [
    "path = os.getcwd()\n",
    "data_path = os.path.join(os.path.dirname(path),\"Data\",\"MNIST\")"
   ]
  },
  {
   "cell_type": "code",
   "execution_count": 3,
   "metadata": {},
   "outputs": [],
   "source": [
    "data,label = prepare_train_test_mnist(data_path)"
   ]
  },
  {
   "cell_type": "code",
   "execution_count": 4,
   "metadata": {},
   "outputs": [],
   "source": [
    "X_train, X_test, y_train, y_test = train_test_split(\n",
    "    data, label, test_size=0.50, random_state=42,shuffle = True)"
   ]
  },
  {
   "cell_type": "code",
   "execution_count": 5,
   "metadata": {},
   "outputs": [],
   "source": [
    "y_tr_one_hot = np.zeros((y_train.shape[0],10))\n",
    "y_test_one_hot = np.zeros((y_test.shape[0],10))\n",
    "for i in range(y_train.shape[0]):\n",
    "    y_tr_one_hot[i,y_train[i]] = 1\n",
    "for i in range(y_test.shape[0]):\n",
    "    y_test_one_hot[i,y_test[i]] = 1"
   ]
  },
  {
   "cell_type": "markdown",
   "metadata": {},
   "source": [
    "### 1 hidden layer"
   ]
  },
  {
   "cell_type": "code",
   "execution_count": 14,
   "metadata": {},
   "outputs": [],
   "source": [
    "net_1= NN(hidden_layer=[30], \n",
    "           activation=[\"tanh\"], \n",
    "           input_dim=784,output_dim=10, momentum = 0.1)"
   ]
  },
  {
   "cell_type": "code",
   "execution_count": 15,
   "metadata": {},
   "outputs": [
    {
     "name": "stdout",
     "output_type": "stream",
     "text": [
      "epoch = 1 loss =1.5289170114156518\n",
      "epoch = 2 loss =0.9508037180383877\n",
      "epoch = 3 loss =0.7540135535561105\n",
      "epoch = 4 loss =0.6624367095065093\n",
      "epoch = 5 loss =0.6033735356526385\n",
      "epoch = 6 loss =0.5699252758089852\n",
      "epoch = 7 loss =0.5768483399204585\n",
      "epoch = 8 loss =0.5566974111107619\n",
      "training done\n"
     ]
    }
   ],
   "source": [
    "loss = net_1.fit_batch(X_train,y_tr_one_hot,epochs=8,lr=0.0001,batch_size=200)"
   ]
  },
  {
   "cell_type": "code",
   "execution_count": 21,
   "metadata": {},
   "outputs": [
    {
     "name": "stdout",
     "output_type": "stream",
     "text": [
      "epoch = 1 loss =0.4443634091620765\n",
      "epoch = 2 loss =0.4700363541794669\n",
      "epoch = 3 loss =0.45500606523774834\n",
      "epoch = 4 loss =0.4672571101127942\n",
      "training done\n"
     ]
    }
   ],
   "source": [
    "loss = net_1.fit_batch(X_train,y_tr_one_hot,epochs=4,lr=0.0001,batch_size=200)"
   ]
  },
  {
   "cell_type": "code",
   "execution_count": 22,
   "metadata": {},
   "outputs": [
    {
     "name": "stdout",
     "output_type": "stream",
     "text": [
      "0.8630952380952381\n",
      "0.8609351808023021\n"
     ]
    },
    {
     "data": {
      "text/plain": [
       "0.8630952380952381"
      ]
     },
     "execution_count": 22,
     "metadata": {},
     "output_type": "execute_result"
    }
   ],
   "source": [
    "pred_vals = net_1.predict(np.asarray(X_test))    \n",
    "from sklearn.metrics import accuracy_score\n",
    "print(accuracy_score(y_test,pred_vals))\n",
    "from sklearn.metrics import f1_score\n",
    "print(f1_score(y_test, pred_vals, average='macro'))\n",
    "f1_score(y_test, pred_vals, average='micro')"
   ]
  },
  {
   "cell_type": "markdown",
   "metadata": {},
   "source": [
    "### 2 _hidden_ layers"
   ]
  },
  {
   "cell_type": "code",
   "execution_count": 9,
   "metadata": {},
   "outputs": [],
   "source": [
    "net_2 = NN(hidden_layer=[30,30], \n",
    "           activation=[\"tanh\",\"relu\"], \n",
    "           input_dim=784,output_dim=10, momentum = 0.1)"
   ]
  },
  {
   "cell_type": "code",
   "execution_count": 10,
   "metadata": {},
   "outputs": [
    {
     "name": "stdout",
     "output_type": "stream",
     "text": [
      "epoch = 1 loss =2.0117550956495576\n",
      "epoch = 2 loss =1.3642210357691913\n",
      "epoch = 3 loss =0.9442892206917751\n",
      "epoch = 4 loss =0.7559552353450747\n",
      "epoch = 5 loss =0.6740304190894497\n",
      "epoch = 6 loss =0.6219527473767085\n",
      "epoch = 7 loss =0.5774661478581431\n",
      "epoch = 8 loss =0.5432716242270262\n",
      "training done\n"
     ]
    }
   ],
   "source": [
    "loss = net_2.fit_batch(X_train,y_tr_one_hot,epochs=8,lr=0.0001,batch_size=200)"
   ]
  },
  {
   "cell_type": "code",
   "execution_count": 23,
   "metadata": {},
   "outputs": [
    {
     "name": "stdout",
     "output_type": "stream",
     "text": [
      "epoch = 1 loss =0.5121453815733216\n",
      "epoch = 2 loss =0.4827646905992788\n",
      "epoch = 3 loss =0.47832584785059823\n",
      "epoch = 4 loss =0.47295814669273784\n",
      "epoch = 5 loss =0.4650060249926532\n",
      "epoch = 6 loss =0.4428845380442836\n",
      "training done\n"
     ]
    }
   ],
   "source": [
    "loss = net_2.fit_batch(X_train,y_tr_one_hot,epochs=6,lr=0.0001,batch_size=200)"
   ]
  },
  {
   "cell_type": "code",
   "execution_count": 12,
   "metadata": {},
   "outputs": [
    {
     "name": "stdout",
     "output_type": "stream",
     "text": [
      "0.8383809523809523\n",
      "0.8357181381214576\n"
     ]
    },
    {
     "data": {
      "text/plain": [
       "0.8383809523809523"
      ]
     },
     "execution_count": 12,
     "metadata": {},
     "output_type": "execute_result"
    }
   ],
   "source": [
    "pred_vals = net_2.predict(np.asarray(X_test))    \n",
    "from sklearn.metrics import accuracy_score\n",
    "print(accuracy_score(y_test,pred_vals))\n",
    "from sklearn.metrics import f1_score\n",
    "print(f1_score(y_test, pred_vals, average='macro'))\n",
    "f1_score(y_test, pred_vals, average='micro')"
   ]
  },
  {
   "cell_type": "code",
   "execution_count": 24,
   "metadata": {},
   "outputs": [
    {
     "data": {
      "image/png": "[encoded data removed]",
      "text/plain": [
       "<Figure size 432x288 with 1 Axes>"
      ]
     },
     "metadata": {},
     "output_type": "display_data"
    }
   ],
   "source": [
    "from matplotlib import pyplot as plt\n",
    "plt.plot([1,2,3,4,5,6],[87.11,92.46,97.40,97.12,94.52,94.20])\n",
    "plt.xlabel(\"number of layers\")\n",
    "plt.ylabel(\"accuracy\")\n",
    "plt.show()"
   ]
  },
  {
   "cell_type": "markdown",
   "metadata": {},
   "source": [
    "### 3 _hidden_ layers"
   ]
  },
  {
   "cell_type": "code",
   "execution_count": 13,
   "metadata": {},
   "outputs": [],
   "source": [
    "net_3 = NN(hidden_layer=[30,30,30], \n",
    "           activation=[\"swish\",\"relu\",\"relu\"], \n",
    "           input_dim=784,output_dim=10, momentum = 0.1)"
   ]
  },
  {
   "cell_type": "markdown",
   "metadata": {},
   "source": [
    "### result is without clipping"
   ]
  },
  {
   "cell_type": "code",
   "execution_count": 14,
   "metadata": {},
   "outputs": [
    {
     "name": "stdout",
     "output_type": "stream",
     "text": [
      "epoch = 1 loss =1.0750551565745363\n",
      "epoch = 2 loss =0.3684404489550846\n",
      "training done\n"
     ]
    }
   ],
   "source": [
    "loss = net_3.fit_batch(X_train,y_tr_one_hot, epochs=2, lr=0.0001,batch_size=200)"
   ]
  },
  {
   "cell_type": "code",
   "execution_count": 15,
   "metadata": {},
   "outputs": [
    {
     "name": "stdout",
     "output_type": "stream",
     "text": [
      "epoch = 1 loss =0.28134071091452634\n",
      "epoch = 2 loss =0.2331535499740881\n",
      "training done\n"
     ]
    }
   ],
   "source": [
    "loss = net_3.fit_batch(X_train,y_tr_one_hot, epochs=2, lr=0.0001,batch_size=200)"
   ]
  },
  {
   "cell_type": "code",
   "execution_count": 16,
   "metadata": {},
   "outputs": [
    {
     "name": "stdout",
     "output_type": "stream",
     "text": [
      "epoch = 1 loss =0.20665918000077627\n",
      "epoch = 2 loss =0.1720252758917801\n",
      "training done\n"
     ]
    }
   ],
   "source": [
    "loss = net_3.fit_batch(X_train,y_tr_one_hot, epochs=2, lr=0.0001,batch_size=200)"
   ]
  },
  {
   "cell_type": "markdown",
   "metadata": {},
   "source": [
    "###  now with _4 hidden_ layers"
   ]
  },
  {
   "cell_type": "code",
   "execution_count": 22,
   "metadata": {},
   "outputs": [],
   "source": [
    "net_4 = NN(hidden_layer=[30,30,30,10], \n",
    "           activation=[\"tanh\",\"relu\",\"relu\",\"relu\"], \n",
    "           input_dim=784,output_dim=10, momentum = 0.1)"
   ]
  },
  {
   "cell_type": "code",
   "execution_count": 23,
   "metadata": {},
   "outputs": [
    {
     "name": "stdout",
     "output_type": "stream",
     "text": [
      "epoch = 1 loss =2.296971306737286\n",
      "epoch = 2 loss =2.2848150473593516\n",
      "training done\n"
     ]
    }
   ],
   "source": [
    "loss = net_4.fit_batch(X_train,y_tr_one_hot,epochs=2,lr=0.0001,batch_size=200)"
   ]
  },
  {
   "cell_type": "code",
   "execution_count": 24,
   "metadata": {},
   "outputs": [
    {
     "name": "stdout",
     "output_type": "stream",
     "text": [
      "epoch = 1 loss =2.102998523312448\n",
      "epoch = 2 loss =1.906235671134789\n",
      "training done\n"
     ]
    }
   ],
   "source": [
    "loss = net_4.fit_batch(X_train,y_tr_one_hot,epochs=2,lr=0.001,batch_size=200)"
   ]
  },
  {
   "cell_type": "code",
   "execution_count": 25,
   "metadata": {},
   "outputs": [
    {
     "name": "stdout",
     "output_type": "stream",
     "text": [
      "epoch = 1 loss =1.9013346595142502\n",
      "epoch = 2 loss =1.8819120241123224\n",
      "epoch = 3 loss =1.9050891265280838\n",
      "epoch = 4 loss =1.7252463063933394\n",
      "training done\n"
     ]
    }
   ],
   "source": [
    "loss = net_4.fit_batch(X_train,y_tr_one_hot,epochs=4,lr=0.001,batch_size=200)"
   ]
  },
  {
   "cell_type": "code",
   "execution_count": 26,
   "metadata": {},
   "outputs": [
    {
     "name": "stdout",
     "output_type": "stream",
     "text": [
      "epoch = 1 loss =1.6864604659074702\n",
      "epoch = 2 loss =1.8184669047185071\n",
      "training done\n"
     ]
    }
   ],
   "source": [
    "loss = net_4.fit_batch(X_train,y_tr_one_hot,epochs=2,lr=0.001,batch_size=200)"
   ]
  },
  {
   "cell_type": "code",
   "execution_count": 27,
   "metadata": {},
   "outputs": [
    {
     "name": "stdout",
     "output_type": "stream",
     "text": [
      "epoch = 1 loss =1.5839247476362648\n",
      "epoch = 2 loss =1.5519504205183694\n",
      "epoch = 3 loss =1.5375847233991065\n",
      "epoch = 4 loss =1.520417057100866\n",
      "epoch = 5 loss =1.4947371919948849\n",
      "epoch = 6 loss =1.4895681059072634\n",
      "epoch = 7 loss =1.4646091275675894\n",
      "epoch = 8 loss =1.4580677981550343\n",
      "epoch = 9 loss =1.4385909123020033\n",
      "epoch = 10 loss =1.4215501408413358\n",
      "epoch = 11 loss =1.4182385270008695\n",
      "epoch = 12 loss =1.4241917789919507\n",
      "training done\n"
     ]
    }
   ],
   "source": [
    "loss = net_4.fit_batch(X_train,y_tr_one_hot,epochs=12,lr=0.0001, batch_size=200)"
   ]
  },
  {
   "cell_type": "code",
   "execution_count": 28,
   "metadata": {},
   "outputs": [
    {
     "name": "stdout",
     "output_type": "stream",
     "text": [
      "epoch = 1 loss =1.6721046496715217\n",
      "epoch = 2 loss =1.8145172174747692\n",
      "training done\n"
     ]
    }
   ],
   "source": [
    "loss = net_4.fit_batch(X_train,y_tr_one_hot,epochs=2,lr=0.001, batch_size=200)"
   ]
  },
  {
   "cell_type": "markdown",
   "metadata": {},
   "source": [
    "###  now with _5 hidden_ layers"
   ]
  },
  {
   "cell_type": "code",
   "execution_count": 29,
   "metadata": {},
   "outputs": [],
   "source": [
    "net_5 = NN(hidden_layer=[30,30,30,20, 20], \n",
    "           activation=[\"tanh\",\"relu\",\"relu\",\"relu\", \"relu\"], \n",
    "           input_dim=784,output_dim=10, momentum = 0.1)"
   ]
  },
  {
   "cell_type": "code",
   "execution_count": 30,
   "metadata": {},
   "outputs": [
    {
     "name": "stdout",
     "output_type": "stream",
     "text": [
      "epoch = 1 loss =2.302014093997519\n",
      "epoch = 2 loss =2.300970729779251\n",
      "training done\n"
     ]
    }
   ],
   "source": [
    "loss = net_5.fit_batch(X_train,y_tr_one_hot,epochs=2,lr=0.0001,batch_size=200)"
   ]
  },
  {
   "cell_type": "markdown",
   "metadata": {},
   "source": [
    "###  with _4 hidden_ layer specific config sigmoid, tanh, relu, swish"
   ]
  },
  {
   "cell_type": "code",
   "execution_count": 30,
   "metadata": {},
   "outputs": [],
   "source": [
    "net_4_spec = NN(hidden_layer=[30,30,30,10], \n",
    "                activation=[\"sigmoid\",\"tanh\",\"relu\",\"swish\"], \n",
    "                input_dim=784,output_dim=10, momentum = 0.1)"
   ]
  },
  {
   "cell_type": "code",
   "execution_count": 31,
   "metadata": {},
   "outputs": [
    {
     "name": "stdout",
     "output_type": "stream",
     "text": [
      "epoch = 1 loss =2.300128252884374\n",
      "epoch = 2 loss =2.2971469737603227\n",
      "training done\n"
     ]
    }
   ],
   "source": [
    "loss = net_4_spec.fit_batch(X_train,y_tr_one_hot,epochs=2,lr=0.0001, batch_size=200)"
   ]
  },
  {
   "cell_type": "code",
   "execution_count": 32,
   "metadata": {},
   "outputs": [
    {
     "name": "stdout",
     "output_type": "stream",
     "text": [
      "epoch = 1 loss =2.154097026964353\n",
      "epoch = 2 loss =1.8509857916635877\n",
      "training done\n"
     ]
    }
   ],
   "source": [
    "loss = net_4_spec.fit_batch(X_train,y_tr_one_hot,epochs=2,lr=0.001, batch_size=200)"
   ]
  },
  {
   "cell_type": "code",
   "execution_count": 33,
   "metadata": {},
   "outputs": [
    {
     "name": "stdout",
     "output_type": "stream",
     "text": [
      "epoch = 1 loss =1.68935047888293\n",
      "epoch = 2 loss =1.6417230932290043\n",
      "training done\n"
     ]
    }
   ],
   "source": [
    "loss = net_4_spec.fit_batch(X_train,y_tr_one_hot,epochs=2,lr=0.001, batch_size=200)"
   ]
  },
  {
   "cell_type": "code",
   "execution_count": 34,
   "metadata": {},
   "outputs": [
    {
     "name": "stdout",
     "output_type": "stream",
     "text": [
      "epoch = 1 loss =1.5001586129768245\n",
      "epoch = 2 loss =1.5405641259011984\n",
      "training done\n"
     ]
    }
   ],
   "source": [
    "loss = net_4_spec.fit_batch(X_train,y_tr_one_hot,epochs=2,lr=0.001, batch_size=200)"
   ]
  },
  {
   "cell_type": "code",
   "execution_count": 36,
   "metadata": {},
   "outputs": [
    {
     "name": "stdout",
     "output_type": "stream",
     "text": [
      "epoch = 1 loss =1.4664923419689093\n",
      "epoch = 2 loss =1.4201860276705238\n",
      "epoch = 3 loss =1.3208895687817006\n",
      "epoch = 4 loss =1.237000881406066\n",
      "epoch = 5 loss =1.1565771461187992\n",
      "epoch = 6 loss =1.2021581164142556\n",
      "epoch = 7 loss =1.1815500452906422\n",
      "epoch = 8 loss =1.2440235111919509\n",
      "epoch = 9 loss =1.173443384329612\n",
      "epoch = 10 loss =1.1291200790726834\n",
      "training done\n"
     ]
    }
   ],
   "source": [
    "loss = net_4_spec.fit_batch(X_train,y_tr_one_hot,epochs=10,lr=0.001, batch_size=200)"
   ]
  },
  {
   "cell_type": "code",
   "execution_count": 35,
   "metadata": {},
   "outputs": [
    {
     "name": "stdout",
     "output_type": "stream",
     "text": [
      "0.4878095238095238\n",
      "0.40509028970068145\n"
     ]
    },
    {
     "data": {
      "text/plain": [
       "0.4878095238095238"
      ]
     },
     "execution_count": 35,
     "metadata": {},
     "output_type": "execute_result"
    }
   ],
   "source": [
    "pred_vals = net_4_spec.predict(np.asarray(X_test))    \n",
    "from sklearn.metrics import accuracy_score\n",
    "print(accuracy_score(y_test,pred_vals))\n",
    "from sklearn.metrics import f1_score\n",
    "print(f1_score(y_test, pred_vals, average='macro'))\n",
    "f1_score(y_test, pred_vals, average='micro')"
   ]
  },
  {
   "cell_type": "code",
   "execution_count": null,
   "metadata": {},
   "outputs": [],
   "source": []
  }
 ],
 "metadata": {
  "kernelspec": {
   "display_name": "Python 3",
   "language": "python",
   "name": "python3"
  },
  "language_info": {
   "codemirror_mode": {
    "name": "ipython",
    "version": 3
   },
   "file_extension": ".py",
   "mimetype": "text/x-python",
   "name": "python",
   "nbconvert_exporter": "python",
   "pygments_lexer": "ipython3",
   "version": "3.6.5"
  }
 },
 "nbformat": 4,
 "nbformat_minor": 2
}
