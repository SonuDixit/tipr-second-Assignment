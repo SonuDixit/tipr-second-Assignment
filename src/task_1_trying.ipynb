{
 "cells": [
  {
   "cell_type": "code",
   "execution_count": 1,
   "metadata": {},
   "outputs": [],
   "source": [
    "import os\n",
    "from matplotlib.image import imread\n",
    "import numpy as np\n",
    "from sklearn.model_selection import train_test_split\n",
    "from matplotlib import pyplot as plt\n",
    "from NN import NN\n",
    "from helper_fns import prepare_train_test_mnist"
   ]
  },
  {
   "cell_type": "code",
   "execution_count": 2,
   "metadata": {},
   "outputs": [],
   "source": [
    "path = os.getcwd()\n",
    "data_path = os.path.join(os.path.dirname(path),\"Data\",\"MNIST\")"
   ]
  },
  {
   "cell_type": "code",
   "execution_count": 3,
   "metadata": {},
   "outputs": [],
   "source": [
    "data,label = prepare_train_test_mnist(data_path)"
   ]
  },
  {
   "cell_type": "code",
   "execution_count": 4,
   "metadata": {},
   "outputs": [],
   "source": [
    "X_train, X_test, y_train, y_test = train_test_split(\n",
    "    data, label, test_size=0.50, random_state=42,shuffle = True)"
   ]
  },
  {
   "cell_type": "code",
   "execution_count": 5,
   "metadata": {},
   "outputs": [],
   "source": [
    "y_tr_one_hot = np.zeros((y_train.shape[0],10))\n",
    "y_test_one_hot = np.zeros((y_test.shape[0],10))\n",
    "for i in range(y_train.shape[0]):\n",
    "    y_tr_one_hot[i,y_train[i]] = 1\n",
    "for i in range(y_test.shape[0]):\n",
    "    y_test_one_hot[i,y_test[i]] = 1"
   ]
  },
  {
   "cell_type": "markdown",
   "metadata": {},
   "source": [
    "### 2 _hidden_ layers"
   ]
  },
  {
   "cell_type": "code",
   "execution_count": 18,
   "metadata": {},
   "outputs": [],
   "source": [
    "net_2 = NN(hidden_layer=[30,30], \n",
    "           activation=[\"tanh\",\"relu\"], \n",
    "           input_dim=784,output_dim=10, momentum = 0.1)"
   ]
  },
  {
   "cell_type": "code",
   "execution_count": 19,
   "metadata": {},
   "outputs": [
    {
     "name": "stdout",
     "output_type": "stream",
     "text": [
      "epoch = 1 loss =2.0117550956495576\n",
      "epoch = 2 loss =1.3642210357691913\n",
      "epoch = 3 loss =0.9442892206917751\n",
      "epoch = 4 loss =0.7559552353450747\n",
      "training done\n"
     ]
    }
   ],
   "source": [
    "loss = net_2.fit_batch(X_train,y_tr_one_hot,epochs=4,lr=0.0001,batch_size=200)"
   ]
  },
  {
   "cell_type": "code",
   "execution_count": 20,
   "metadata": {},
   "outputs": [
    {
     "name": "stdout",
     "output_type": "stream",
     "text": [
      "epoch = 1 loss =0.6494720684091786\n",
      "epoch = 2 loss =0.6114888129839351\n",
      "training done\n"
     ]
    }
   ],
   "source": [
    "loss = net_2.fit_batch(X_train,y_tr_one_hot,epochs=2,lr=0.0001,batch_size=200)"
   ]
  },
  {
   "cell_type": "code",
   "execution_count": null,
   "metadata": {},
   "outputs": [],
   "source": [
    "loss = net_2.fit_batch(X_train,y_tr_one_hot,epochs=4,lr=0.0001,batch_size=200)"
   ]
  },
  {
   "cell_type": "markdown",
   "metadata": {},
   "source": [
    "### 3 _hidden_ layers"
   ]
  },
  {
   "cell_type": "code",
   "execution_count": 13,
   "metadata": {},
   "outputs": [],
   "source": [
    "net_3 = NN(hidden_layer=[30,30,30], \n",
    "           activation=[\"swish\",\"relu\",\"relu\"], \n",
    "           input_dim=784,output_dim=10, momentum = 0.1)"
   ]
  },
  {
   "cell_type": "markdown",
   "metadata": {},
   "source": [
    "### result is without clipping"
   ]
  },
  {
   "cell_type": "code",
   "execution_count": 14,
   "metadata": {},
   "outputs": [
    {
     "name": "stdout",
     "output_type": "stream",
     "text": [
      "epoch = 1 loss =1.0750551565745363\n",
      "epoch = 2 loss =0.3684404489550846\n",
      "training done\n"
     ]
    }
   ],
   "source": [
    "loss = net_3.fit_batch(X_train,y_tr_one_hot, epochs=2, lr=0.0001,batch_size=200)"
   ]
  },
  {
   "cell_type": "code",
   "execution_count": 15,
   "metadata": {},
   "outputs": [
    {
     "name": "stdout",
     "output_type": "stream",
     "text": [
      "epoch = 1 loss =0.28134071091452634\n",
      "epoch = 2 loss =0.2331535499740881\n",
      "training done\n"
     ]
    }
   ],
   "source": [
    "loss = net_3.fit_batch(X_train,y_tr_one_hot, epochs=2, lr=0.0001,batch_size=200)"
   ]
  },
  {
   "cell_type": "code",
   "execution_count": 16,
   "metadata": {},
   "outputs": [
    {
     "name": "stdout",
     "output_type": "stream",
     "text": [
      "epoch = 1 loss =0.20665918000077627\n",
      "epoch = 2 loss =0.1720252758917801\n",
      "training done\n"
     ]
    }
   ],
   "source": [
    "loss = net_3.fit_batch(X_train,y_tr_one_hot, epochs=2, lr=0.0001,batch_size=200)"
   ]
  },
  {
   "cell_type": "markdown",
   "metadata": {},
   "source": [
    "###  now with _4 hidden_ layers"
   ]
  },
  {
   "cell_type": "code",
   "execution_count": 22,
   "metadata": {},
   "outputs": [],
   "source": [
    "net_4 = NN(hidden_layer=[30,30,30,10], \n",
    "           activation=[\"tanh\",\"relu\",\"relu\",\"relu\"], \n",
    "           input_dim=784,output_dim=10, momentum = 0.1)"
   ]
  },
  {
   "cell_type": "code",
   "execution_count": 23,
   "metadata": {},
   "outputs": [
    {
     "name": "stdout",
     "output_type": "stream",
     "text": [
      "epoch = 1 loss =2.296971306737286\n",
      "epoch = 2 loss =2.2848150473593516\n",
      "training done\n"
     ]
    }
   ],
   "source": [
    "loss = net_4.fit_batch(X_train,y_tr_one_hot,epochs=2,lr=0.0001,batch_size=200)"
   ]
  },
  {
   "cell_type": "code",
   "execution_count": 24,
   "metadata": {},
   "outputs": [
    {
     "name": "stdout",
     "output_type": "stream",
     "text": [
      "epoch = 1 loss =2.102998523312448\n",
      "epoch = 2 loss =1.906235671134789\n",
      "training done\n"
     ]
    }
   ],
   "source": [
    "loss = net_4.fit_batch(X_train,y_tr_one_hot,epochs=2,lr=0.001,batch_size=200)"
   ]
  },
  {
   "cell_type": "code",
   "execution_count": 25,
   "metadata": {},
   "outputs": [
    {
     "name": "stdout",
     "output_type": "stream",
     "text": [
      "epoch = 1 loss =1.9013346595142502\n",
      "epoch = 2 loss =1.8819120241123224\n",
      "epoch = 3 loss =1.9050891265280838\n",
      "epoch = 4 loss =1.7252463063933394\n",
      "training done\n"
     ]
    }
   ],
   "source": [
    "loss = net_4.fit_batch(X_train,y_tr_one_hot,epochs=4,lr=0.001,batch_size=200)"
   ]
  },
  {
   "cell_type": "code",
   "execution_count": 26,
   "metadata": {},
   "outputs": [
    {
     "name": "stdout",
     "output_type": "stream",
     "text": [
      "epoch = 1 loss =1.6864604659074702\n",
      "epoch = 2 loss =1.8184669047185071\n",
      "training done\n"
     ]
    }
   ],
   "source": [
    "loss = net_4.fit_batch(X_train,y_tr_one_hot,epochs=2,lr=0.001,batch_size=200)"
   ]
  },
  {
   "cell_type": "code",
   "execution_count": 27,
   "metadata": {},
   "outputs": [
    {
     "name": "stdout",
     "output_type": "stream",
     "text": [
      "epoch = 1 loss =1.5839247476362648\n",
      "epoch = 2 loss =1.5519504205183694\n",
      "epoch = 3 loss =1.5375847233991065\n",
      "epoch = 4 loss =1.520417057100866\n",
      "epoch = 5 loss =1.4947371919948849\n",
      "epoch = 6 loss =1.4895681059072634\n",
      "epoch = 7 loss =1.4646091275675894\n",
      "epoch = 8 loss =1.4580677981550343\n",
      "epoch = 9 loss =1.4385909123020033\n",
      "epoch = 10 loss =1.4215501408413358\n",
      "epoch = 11 loss =1.4182385270008695\n",
      "epoch = 12 loss =1.4241917789919507\n",
      "training done\n"
     ]
    }
   ],
   "source": [
    "loss = net_4.fit_batch(X_train,y_tr_one_hot,epochs=12,lr=0.0001, batch_size=200)"
   ]
  },
  {
   "cell_type": "code",
   "execution_count": 28,
   "metadata": {},
   "outputs": [
    {
     "name": "stdout",
     "output_type": "stream",
     "text": [
      "epoch = 1 loss =1.6721046496715217\n",
      "epoch = 2 loss =1.8145172174747692\n",
      "training done\n"
     ]
    }
   ],
   "source": [
    "loss = net_4.fit_batch(X_train,y_tr_one_hot,epochs=2,lr=0.001, batch_size=200)"
   ]
  },
  {
   "cell_type": "markdown",
   "metadata": {},
   "source": [
    "###  now with _5 hidden_ layers"
   ]
  },
  {
   "cell_type": "code",
   "execution_count": 29,
   "metadata": {},
   "outputs": [],
   "source": [
    "net_5 = NN(hidden_layer=[30,30,30,20, 20], \n",
    "           activation=[\"tanh\",\"relu\",\"relu\",\"relu\", \"relu\"], \n",
    "           input_dim=784,output_dim=10, momentum = 0.1)"
   ]
  },
  {
   "cell_type": "code",
   "execution_count": 30,
   "metadata": {},
   "outputs": [
    {
     "name": "stdout",
     "output_type": "stream",
     "text": [
      "epoch = 1 loss =2.302014093997519\n",
      "epoch = 2 loss =2.300970729779251\n",
      "training done\n"
     ]
    }
   ],
   "source": [
    "loss = net_5.fit_batch(X_train,y_tr_one_hot,epochs=2,lr=0.0001,batch_size=200)"
   ]
  },
  {
   "cell_type": "markdown",
   "metadata": {},
   "source": [
    "###  with _4 hidden_ layer specific config sigmoid, tanh, relu, swish"
   ]
  },
  {
   "cell_type": "code",
   "execution_count": 6,
   "metadata": {},
   "outputs": [],
   "source": [
    "net_4_spec = NN(hidden_layer=[30,30,20,10], \n",
    "                activation=[\"sigmoid\",\"tanh\",\"relu\",\"swish\"], \n",
    "                input_dim=784,output_dim=10, momentum = 0.1)"
   ]
  },
  {
   "cell_type": "code",
   "execution_count": 7,
   "metadata": {},
   "outputs": [
    {
     "name": "stdout",
     "output_type": "stream",
     "text": [
      "epoch = 1 loss =2.2996984663775937\n",
      "epoch = 2 loss =2.2961920992745903\n",
      "training done\n"
     ]
    }
   ],
   "source": [
    "loss = net_4_spec.fit_batch(X_train,y_tr_one_hot,epochs=2,lr=0.0001, batch_size=200)"
   ]
  },
  {
   "cell_type": "code",
   "execution_count": 8,
   "metadata": {},
   "outputs": [
    {
     "name": "stdout",
     "output_type": "stream",
     "text": [
      "epoch = 1 loss =2.150134990642635\n",
      "epoch = 2 loss =1.854199499992324\n",
      "training done\n"
     ]
    }
   ],
   "source": [
    "loss = net_4_spec.fit_batch(X_train,y_tr_one_hot,epochs=2,lr=0.001, batch_size=200)"
   ]
  },
  {
   "cell_type": "code",
   "execution_count": 9,
   "metadata": {},
   "outputs": [
    {
     "name": "stdout",
     "output_type": "stream",
     "text": [
      "epoch = 1 loss =1.6797467053820743\n",
      "epoch = 2 loss =1.629271845843624\n",
      "training done\n"
     ]
    }
   ],
   "source": [
    "loss = net_4_spec.fit_batch(X_train,y_tr_one_hot,epochs=2,lr=0.001, batch_size=200)"
   ]
  },
  {
   "cell_type": "code",
   "execution_count": 10,
   "metadata": {},
   "outputs": [
    {
     "name": "stdout",
     "output_type": "stream",
     "text": [
      "epoch = 1 loss =1.650340168492757\n",
      "epoch = 2 loss =1.5582554456617128\n",
      "training done\n"
     ]
    }
   ],
   "source": [
    "loss = net_4_spec.fit_batch(X_train,y_tr_one_hot,epochs=2,lr=0.001, batch_size=200)"
   ]
  },
  {
   "cell_type": "code",
   "execution_count": 11,
   "metadata": {},
   "outputs": [
    {
     "name": "stdout",
     "output_type": "stream",
     "text": [
      "epoch = 1 loss =1.5078243816691863\n",
      "epoch = 2 loss =1.4459832802294716\n",
      "epoch = 3 loss =1.36509034335595\n",
      "epoch = 4 loss =1.2794764920988426\n",
      "epoch = 5 loss =1.2805567257672392\n",
      "epoch = 6 loss =1.2945938974828297\n",
      "training done\n"
     ]
    }
   ],
   "source": [
    "loss = net_4_spec.fit_batch(X_train,y_tr_one_hot,epochs=6,lr=0.001, batch_size=200)"
   ]
  },
  {
   "cell_type": "code",
   "execution_count": null,
   "metadata": {},
   "outputs": [],
   "source": []
  }
 ],
 "metadata": {
  "kernelspec": {
   "display_name": "Python 3",
   "language": "python",
   "name": "python3"
  },
  "language_info": {
   "codemirror_mode": {
    "name": "ipython",
    "version": 3
   },
   "file_extension": ".py",
   "mimetype": "text/x-python",
   "name": "python",
   "nbconvert_exporter": "python",
   "pygments_lexer": "ipython3",
   "version": "3.6.5"
  }
 },
 "nbformat": 4,
 "nbformat_minor": 2
}
