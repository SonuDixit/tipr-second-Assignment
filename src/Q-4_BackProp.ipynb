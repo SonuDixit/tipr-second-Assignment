{
 "cells": [
  {
   "cell_type": "markdown",
   "metadata": {},
   "source": [
    "# Implemetation of Backpropagation "
   ]
  },
  {
   "cell_type": "code",
   "execution_count": 4,
   "metadata": {
    "collapsed": true
   },
   "outputs": [],
   "source": [
    "class DNN_classifier():\n",
    "    \n",
    "    def __init__(self,num_hidden_layers=2,layer_sizes=[12,10,10],num_classes=2,momentum=0.9): ## layer sizes includes dimensions \n",
    "        \n",
    "        layer_sizes.append(num_classes);\n",
    "        \n",
    "#         num_hidden_units=\n",
    "        self.weights={};\n",
    "        self.bias={};\n",
    "        self.layer_sizes=layer_sizes;\n",
    "        self.num_classes=num_classes;\n",
    "        self.momentum=momentum;\n",
    "        self.z={};\n",
    "        self.a={};\n",
    "        self.grads={};\n",
    "        self.epsilon=0.000000001;\n",
    "        \n",
    "        for i in range(1,len(layer_sizes)):\n",
    "#             np.random.seed(i);\n",
    "\n",
    "#             n = np.sqrt((layer_sizes[i]+layer_sizes[i-1])/2); ## xavier initialisation \n",
    "#             w = np.random.normal(loc=0,scale=(2/n),size=(layer_sizes[i],layer_sizes[i-1]))\n",
    "#             b= np.random.normal(size=(layer_sizes[i],1));\n",
    "\n",
    "            np.random.seed(123)\n",
    "        \n",
    "            \n",
    "            \n",
    "            w= 0.05 * np.random.randn(layer_sizes[i],layer_sizes[i-1]);\n",
    "            b=np.zeros((layer_sizes[i],1));\n",
    "\n",
    "#             print(i,w.shape,b.shape);\n",
    "            name='w'+str(i);\n",
    "            self.weights[name]=np.copy(w);\n",
    "            name='b'+str(i);\n",
    "            self.bias[name]=np.copy(b);\n",
    "            \n",
    "            name='a'+str(i);\n",
    "            a=np.random.random((layer_sizes[i],1));\n",
    "            \n",
    "            self.a[name]=np.copy(a);\n",
    "            name='z'+str(i);\n",
    "            d=np.random.random((layer_sizes[i],1));\n",
    "            \n",
    "            self.z[name]=np.copy(d);\n",
    "            \n",
    "#         print(self.,self.z)\n",
    "        \n",
    "    \n",
    "    \n",
    "    def softmax(self,x):\n",
    "        temp=np.copy(x);\n",
    "        \n",
    "        temp=np.exp(temp);\n",
    "        return temp/np.sum(temp);\n",
    "    \n",
    "            \n",
    "    \n",
    "    def relu(self,x):\n",
    "        temp=np.copy(x);\n",
    "        for c in range(len(x)):\n",
    "            if temp[c,0]<0:\n",
    "                temp[c,0]=0;\n",
    "        return temp;\n",
    "        \n",
    "    \n",
    "    \n",
    "    \n",
    "    def forward_pass(self,data): ### number of examples X num of features \n",
    "        \n",
    "        self.a['a1']= np.copy( (self.weights['w1']@data)+self.bias['b1']);\n",
    "        \n",
    "        self.z['z1']=np.copy(self.relu(self.a['a1']));\n",
    "        \n",
    "        self.a['a2']= np.copy((self.weights['w2']@self.z['z1'])+self.bias['b2']);\n",
    "        \n",
    "        self.z['z2']= np.copy(self.relu(self.a['a2']));\n",
    "        \n",
    "        self.a['a3']= np.copy((self.weights['w3']@self.z['z2'])+self.bias['b3']);\n",
    "        \n",
    "        self.z['z3']= np.copy(self.softmax(self.a['a3']));\n",
    "        \n",
    "#         print(self.z['z3'])\n",
    "\n",
    "#         print(self.a);\n",
    "    \n",
    "    def backward_pass(self,data,y):\n",
    "        \n",
    "       \n",
    "        self.grads['dL_da3'] = np.copy(self.z['z3']-y);\n",
    "        \n",
    "        self.grads['dL_dw3'] = np.copy(self.grads['dL_da3'] @ self.z['z2'].T);\n",
    "        \n",
    "        self.grads['dL_db3'] = np.copy(self.grads['dL_da3']) ;\n",
    "        \n",
    "        ## for dL_da2 \n",
    "        \n",
    "        temp=np.copy(self.z['z2']);\n",
    "        temp[temp>0]=1; ## applying relu gradient ;\n",
    "        dz_da = np.diag(temp.reshape(-1,));\n",
    "        \n",
    "        self.grads['dL_da2']= np.copy( dz_da @ (self.weights['w3'].T) @ self.grads['dL_da3'] );\n",
    "        \n",
    "        self.grads['dL_db2']= np.copy(self.grads['dL_da2']);\n",
    "        \n",
    "        self.grads['dL_dw2']= np.copy(self.grads['dL_da2'] @ self.z['z1'].T);\n",
    "        \n",
    "        \n",
    "        temp=np.copy(self.z['z1']);\n",
    "        temp[temp>0]=1; ## applying relu gradient ;\n",
    "        dz_da=np.diag(temp.reshape(-1,));\n",
    "        \n",
    "        \n",
    "        self.grads['dL_da1']= np.copy(dz_da @(self.weights['w2'].T) @ self.grads['dL_da2']);\n",
    "        \n",
    "        self.grads['dL_db1']= np.copy(self.grads['dL_da1']);\n",
    "        \n",
    "        self.grads['dL_dw1']=np.copy(self.grads['dL_da1'] @ data.T);\n",
    "        \n",
    "        \n",
    "        \n",
    "        \n",
    "        \n",
    "    def train(self,data,y,num_epochs=20,is_moment=False,learning_rate=0.01):\n",
    "        \n",
    "        \n",
    "        loss_list=[];\n",
    "        \n",
    "        \n",
    "        ## For momentum \n",
    "        \n",
    "        acc_grad_w1,acc_grad_w2,acc_grad_w3 = np.zeros((self.weights['w1'].shape[0],self.weights['w1'].shape[1])),\\\n",
    "                                      np.zeros((self.weights['w2'].shape[0],self.weights['w2'].shape[1])),\\\n",
    "                                      np.zeros((self.weights['w3'].shape[0],self.weights['w3'].shape[1]));\n",
    "            \n",
    "        acc_grad_b1,acc_grad_b2,acc_grad_b3 = np.zeros((self.bias['b1'].shape[0],self.bias['b1'].shape[1])),\\\n",
    "                                  np.zeros((self.bias['b2'].shape[0],self.bias['b2'].shape[1])),\\\n",
    "                                  np.zeros((self.bias['b3'].shape[0],self.bias['b3'].shape[1]));\n",
    "\n",
    "        \n",
    "        \n",
    "        \n",
    "        for i in range(num_epochs):\n",
    "            \n",
    "            loss=0;\n",
    "            \n",
    "            grad_w1,grad_w2,grad_w3 = np.zeros((self.weights['w1'].shape[0],self.weights['w1'].shape[1])),\\\n",
    "                                      np.zeros((self.weights['w2'].shape[0],self.weights['w2'].shape[1])),\\\n",
    "                                      np.zeros((self.weights['w3'].shape[0],self.weights['w3'].shape[1]));\n",
    "            \n",
    "            grad_b1,grad_b2,grad_b3 = np.zeros((self.bias['b1'].shape[0],self.bias['b1'].shape[1])),\\\n",
    "                                      np.zeros((self.bias['b2'].shape[0],self.bias['b2'].shape[1])),\\\n",
    "                                      np.zeros((self.bias['b3'].shape[0],self.bias['b3'].shape[1]));\n",
    "            \n",
    "            \n",
    "            \n",
    "            for j in range(len(data)):\n",
    "            \n",
    "                self.forward_pass(data[j].reshape(-1,1));\n",
    "                self.backward_pass(data[j].reshape(-1,1),y[j].reshape(-1,1));\n",
    "                \n",
    "                \n",
    "                \n",
    "            \n",
    "                ## aggregating gradients over data samples \n",
    "                grad_w1+= self.grads['dL_dw1'];\n",
    "                grad_w2+= self.grads['dL_dw2'];\n",
    "                grad_w3+= self.grads['dL_dw3'];\n",
    "                \n",
    "                grad_b1+= self.grads['dL_db1'];\n",
    "                grad_b2+= self.grads['dL_db2'];\n",
    "                grad_b3+= self.grads['dL_db3'];\n",
    "                \n",
    "                loss += -1*( y[j,0]*np.log(self.z['z3'][0,0]) + y[j,1]*np.log(self.z['z3'][1,0]) );\n",
    "            \n",
    "            loss=loss/len(data);\n",
    "            \n",
    "            loss_list.append(loss);\n",
    "            \n",
    "            print(' loss for epoch {} is {}'.format(i+1,loss));\n",
    "            \n",
    "            ### updates \n",
    "            if(is_moment==False):\n",
    "                self.weights['w1'] = self.weights['w1'] - learning_rate*grad_w1;\n",
    "                self.weights['w2'] = self.weights['w2'] - learning_rate*grad_w2;\n",
    "                self.weights['w3'] = self.weights['w3'] - learning_rate*grad_w3;\n",
    "                \n",
    "                self.bias['b1'] = self.bias['b1'] - learning_rate*grad_b1;\n",
    "                self.bias['b2'] = self.bias['b2'] - learning_rate*grad_b2;\n",
    "                self.bias['b3'] = self.bias['b3'] - learning_rate*grad_b3;\n",
    "        \n",
    "            else: ## momentum \n",
    "#                 print('moment')\n",
    "                if i==0:\n",
    "                    m=0;\n",
    "                else:\n",
    "                    m= self.momentum;\n",
    "                acc_grad_w1 = m*acc_grad_w1 + grad_w1;\n",
    "                acc_grad_w2 = m*acc_grad_w2 + grad_w2;\n",
    "                acc_grad_w3 = m*acc_grad_w3 + grad_w3;\n",
    "                \n",
    "                self.weights['w1'] = self.weights['w1'] - learning_rate*acc_grad_w1;\n",
    "                self.weights['w2'] = self.weights['w2'] - learning_rate*acc_grad_w2;\n",
    "                self.weights['w3'] = self.weights['w3'] - learning_rate*acc_grad_w3;\n",
    "                \n",
    "                \n",
    "                acc_grad_b1 = m*acc_grad_b1 + grad_b1;\n",
    "                acc_grad_b2 = m*acc_grad_b2 + grad_b2;\n",
    "                acc_grad_b3 = m*acc_grad_b3 + grad_b3;\n",
    "                \n",
    "                self.bias['b1'] = self.bias['b1'] - learning_rate*acc_grad_b1;\n",
    "                self.bias['b2'] = self.bias['b2'] - learning_rate*acc_grad_b2;\n",
    "                self.bias['b3'] = self.bias['b3'] - learning_rate*acc_grad_b3;\n",
    "                \n",
    "                \n",
    "                \n",
    "                \n",
    "#         print(self.z['z2']);    \n",
    "        return loss_list;    \n",
    "            \n",
    "\n",
    "    def accuracy(self,data,y):\n",
    "\n",
    "        sum_=0;\n",
    "        \n",
    "#         print(self.z['z3']);\n",
    "        \n",
    "        y_pred=np.zeros((y.shape[0],y.shape[1]));\n",
    "\n",
    "        for i in range(len(y)):\n",
    "            self.forward_pass(data[i].reshape(-1,1));\n",
    "#             print(self.z['z3'].reshape(1,-1));\n",
    "            y_pred[i,:]=self.z['z3'].reshape(1,-1);\n",
    "#             print(y_pred[i])\n",
    "#             print(y[i]);\n",
    "            if(np.argmax(y_pred[i])==np.argmax(y[i])):\n",
    "                sum_=sum_+1;\n",
    "#         print(self.z['z3']);\n",
    "        \n",
    "        return sum_/len(data);\n",
    "\n",
    "    def ce_loss(self,data,y):\n",
    "        l=0;\n",
    "        for i in range(len(data)):\n",
    "            self.forward_pass(data[i].reshape(-1,1));\n",
    "#             print('details');\n",
    "#             print(y[i]);\n",
    "#             print(self.z['z3']);\n",
    "            l += -1*( y[i,0]*np.log(self.z['z3'][0,0]) + y[i,1]*np.log(self.z['z3'][1,0]) );\n",
    "        return l/len(data);\n"
   ]
  },
  {
   "cell_type": "markdown",
   "metadata": {},
   "source": [
    "# One Hot Encoding for targets "
   ]
  },
  {
   "cell_type": "code",
   "execution_count": 159,
   "metadata": {
    "collapsed": true,
    "scrolled": true
   },
   "outputs": [],
   "source": [
    "from sklearn.preprocessing import OneHotEncoder\n",
    "enc= OneHotEncoder(sparse=False);\n",
    "y_train[y_train==-1]=0;\n",
    "y_test[y_test==-1]=0;\n",
    "\n",
    "y_train_enc=enc.fit_transform(y_train.reshape(-1,1));\n",
    "y_train_enc\n",
    "y_test_enc=enc.transform(y_test.reshape(-1,1))\n",
    "\n",
    "\n"
   ]
  },
  {
   "cell_type": "code",
   "execution_count": 13,
   "metadata": {
    "scrolled": true
   },
   "outputs": [
    {
     "name": "stdout",
     "output_type": "stream",
     "text": [
      " loss for epoch 1 is 0.6931468771238335\n",
      " loss for epoch 2 is 0.6931100339866287\n",
      " loss for epoch 3 is 0.6930709022821562\n",
      " loss for epoch 4 is 0.6930584263504989\n",
      " loss for epoch 5 is 0.6930523461514223\n",
      " loss for epoch 6 is 0.6930442739821888\n",
      " loss for epoch 7 is 0.6930366498149183\n",
      " loss for epoch 8 is 0.6930287156215014\n",
      " loss for epoch 9 is 0.6930195109970114\n",
      " loss for epoch 10 is 0.6930098995512097\n",
      " loss for epoch 11 is 0.692999850296806\n",
      " loss for epoch 12 is 0.6929893299415528\n",
      " loss for epoch 13 is 0.6929783026551944\n",
      " loss for epoch 14 is 0.6929682282352561\n",
      " loss for epoch 15 is 0.6929558612865657\n",
      " loss for epoch 16 is 0.6929431630362655\n",
      " loss for epoch 17 is 0.6929297902454805\n",
      " loss for epoch 18 is 0.6929156904463811\n",
      " loss for epoch 19 is 0.6929008066677589\n",
      " loss for epoch 20 is 0.6928850769440109\n",
      " loss for epoch 21 is 0.692868433767802\n",
      " loss for epoch 22 is 0.6928526931409076\n",
      " loss for epoch 23 is 0.6928336352058385\n",
      " loss for epoch 24 is 0.6928139413846357\n",
      " loss for epoch 25 is 0.6927930080799151\n",
      " loss for epoch 26 is 0.6927707301903264\n",
      " loss for epoch 27 is 0.6927469922358654\n",
      " loss for epoch 28 is 0.6927216670722516\n",
      " loss for epoch 29 is 0.6926965712291299\n",
      " loss for epoch 30 is 0.6926686145221405\n",
      " loss for epoch 31 is 0.6926398451424381\n",
      " loss for epoch 32 is 0.6926089563967449\n",
      " loss for epoch 33 is 0.6925760366456113\n",
      " loss for epoch 34 is 0.6925450052523068\n",
      " loss for epoch 35 is 0.6925120293979283\n",
      " loss for epoch 36 is 0.6924811949153116\n",
      " loss for epoch 37 is 0.6924437888994455\n",
      " loss for epoch 38 is 0.6924042524106512\n",
      " loss for epoch 39 is 0.6923621915380227\n",
      " loss for epoch 40 is 0.6923177563557685\n",
      " loss for epoch 41 is 0.6922693863107172\n",
      " loss for epoch 42 is 0.6922201553318401\n",
      " loss for epoch 43 is 0.692168944128577\n",
      " loss for epoch 44 is 0.692109515491955\n",
      " loss for epoch 45 is 0.6920454634163204\n",
      " loss for epoch 46 is 0.6919763061111438\n",
      " loss for epoch 47 is 0.6919015035966469\n",
      " loss for epoch 48 is 0.6918380605856842\n",
      " loss for epoch 49 is 0.6917528355760372\n",
      " loss for epoch 50 is 0.6916626691551306\n",
      " loss for epoch 51 is 0.6915698107878883\n",
      " loss for epoch 52 is 0.6914728178316292\n",
      " loss for epoch 53 is 0.6913585682443837\n",
      " loss for epoch 54 is 0.691233900611262\n",
      " loss for epoch 55 is 0.6910975937356597\n",
      " loss for epoch 56 is 0.6909482530992779\n",
      " loss for epoch 57 is 0.6907847195243458\n",
      " loss for epoch 58 is 0.6906322755057535\n",
      " loss for epoch 59 is 0.6904553229393429\n",
      " loss for epoch 60 is 0.6902429231268543\n",
      " loss for epoch 61 is 0.690016094883193\n",
      " loss for epoch 62 is 0.6897539170194564\n",
      " loss for epoch 63 is 0.6894622692636407\n",
      " loss for epoch 64 is 0.6891368499654054\n",
      " loss for epoch 65 is 0.6887885843730404\n",
      " loss for epoch 66 is 0.688442918443996\n",
      " loss for epoch 67 is 0.6880143617464293\n",
      " loss for epoch 68 is 0.6876022562498746\n",
      " loss for epoch 69 is 0.6870924549303589\n",
      " loss for epoch 70 is 0.6864764134571979\n",
      " loss for epoch 71 is 0.685755995140001\n",
      " loss for epoch 72 is 0.6849346121405284\n",
      " loss for epoch 73 is 0.6841749403215897\n",
      " loss for epoch 74 is 0.6832924088885305\n",
      " loss for epoch 75 is 0.68208583646887\n",
      " loss for epoch 76 is 0.6807609683197866\n",
      " loss for epoch 77 is 0.6794852099747715\n",
      " loss for epoch 78 is 0.6778715991124885\n",
      " loss for epoch 79 is 0.6759708694049867\n",
      " loss for epoch 80 is 0.6738545536433052\n",
      " loss for epoch 81 is 0.6712631804215945\n",
      " loss for epoch 82 is 0.6689321162679567\n",
      " loss for epoch 83 is 0.6663213789979845\n",
      " loss for epoch 84 is 0.6620561297659184\n",
      " loss for epoch 85 is 0.6583944201359223\n",
      " loss for epoch 86 is 0.6523188567570539\n",
      " loss for epoch 87 is 0.646948968379522\n",
      " loss for epoch 88 is 0.6418311991220039\n",
      " loss for epoch 89 is 0.6347184189444197\n",
      " loss for epoch 90 is 0.627466330894661\n",
      " loss for epoch 91 is 0.6168513680905431\n",
      " loss for epoch 92 is 0.609183568882235\n",
      " loss for epoch 93 is 0.5970175326502818\n",
      " loss for epoch 94 is 0.5893517556560182\n",
      " loss for epoch 95 is 0.5815335334035368\n",
      " loss for epoch 96 is 0.5691744917835343\n",
      " loss for epoch 97 is 0.5648351597900481\n",
      " loss for epoch 98 is 0.5565029968898938\n",
      " loss for epoch 99 is 0.560632865014358\n",
      " loss for epoch 100 is 0.5415244353880562\n"
     ]
    },
    {
     "data": {
      "image/png": "[encoded data removed]",
      "text/plain": [
       "<Figure size 432x288 with 1 Axes>"
      ]
     },
     "metadata": {},
     "output_type": "display_data"
    }
   ],
   "source": [
    "x_train=np.asarray([[1,0],[1,1],[0,1],[0,0]])\n",
    "y_train = np.asarray([[0,1],[0,0],[1,0],[1,1]])\n",
    "\n",
    "clf=DNN_classifier(layer_sizes=[2,4,4],num_classes=2,);\n",
    "\n",
    "loss_list1 = clf.train(x_train,y_train,learning_rate=0.1,num_epochs=100,is_moment=False);\n",
    "train_acc=clf.accuracy(x_train,y_train)\n",
    "# test_acc=clf.accuracy(x_test,y_test)\n",
    "\n",
    "\n",
    "    \n",
    "# print('Train Accuracy is {} and Test Accuracy is {}'.format(train_acc,test_acc));\n",
    "\n",
    "plt.grid(True);\n",
    "plt.plot(loss_list1[0:]);\n",
    "plt.xlabel('No of epochs');\n",
    "plt.ylabel('Train CE Loss ')\n",
    "plt.show();\n"
   ]
  },
  {
   "cell_type": "markdown",
   "metadata": {},
   "source": [
    "# Without momentum and 10 hidden Nodes "
   ]
  },
  {
   "cell_type": "code",
   "execution_count": 297,
   "metadata": {
    "scrolled": false
   },
   "outputs": [
    {
     "name": "stdout",
     "output_type": "stream",
     "text": [
      " loss for epoch 1 is 6.282666970224327\n",
      " loss for epoch 2 is 2.022831374749467\n",
      " loss for epoch 3 is 3.394918119369057\n",
      " loss for epoch 4 is 1.4073530095994344\n",
      " loss for epoch 5 is 2.2026753810543527\n",
      " loss for epoch 6 is 0.8430710413723033\n",
      " loss for epoch 7 is 1.0641084059674553\n",
      " loss for epoch 8 is 0.6908649941868016\n",
      " loss for epoch 9 is 0.6014714198543707\n",
      " loss for epoch 10 is 0.4189386979483321\n",
      " loss for epoch 11 is 0.2770117561795644\n",
      " loss for epoch 12 is 0.2332393695042966\n",
      " loss for epoch 13 is 0.21398404231451473\n",
      " loss for epoch 14 is 0.20476248199813898\n",
      " loss for epoch 15 is 0.19802508979149772\n",
      " loss for epoch 16 is 0.19194081472264443\n",
      " loss for epoch 17 is 0.186292956454396\n",
      " loss for epoch 18 is 0.1810209045182753\n",
      " loss for epoch 19 is 0.1760150840698405\n",
      " loss for epoch 20 is 0.17123914043823277\n",
      "Train Accuracy is 0.95 and Test Accuracy is 0.9\n"
     ]
    },
    {
     "data": {
      "image/png": "[encoded data removed]",
      "text/plain": [
       "<Figure size 432x288 with 1 Axes>"
      ]
     },
     "metadata": {},
     "output_type": "display_data"
    }
   ],
   "source": [
    "from operator import add\n",
    "\n",
    "num_epochs=20;\n",
    "\n",
    "\n",
    "\n",
    "\n",
    "clf=DNN_classifier(layer_sizes=[12,10,10]); ## input layer, hidden 1, hidden 2\n",
    "\n",
    "loss_list1 = clf.train(x_train_pca,y_train_enc,learning_rate=0.006,num_epochs=num_epochs,is_moment=False);\n",
    "train_acc=clf.accuracy(x_train_pca,y_train_enc)\n",
    "test_acc=clf.accuracy(x_test_pca,y_test_enc)\n",
    "\n",
    "\n",
    "    \n",
    "print('Train Accuracy is {} and Test Accuracy is {}'.format(train_acc,test_acc));\n",
    "\n",
    "plt.grid(True);\n",
    "plt.plot(loss_list1[0:]);\n",
    "plt.xlabel('No of epochs');\n",
    "plt.ylabel('Train CE Loss ')\n",
    "plt.show();"
   ]
  },
  {
   "cell_type": "markdown",
   "metadata": {},
   "source": [
    "### Train Accuracy is 95% and Test Accuracy is 90%"
   ]
  },
  {
   "cell_type": "markdown",
   "metadata": {},
   "source": [
    "# Without momentum and 15 hidden Nodes"
   ]
  },
  {
   "cell_type": "code",
   "execution_count": 301,
   "metadata": {
    "scrolled": false
   },
   "outputs": [
    {
     "name": "stdout",
     "output_type": "stream",
     "text": [
      " loss for epoch 1 is 3.97916131043698\n",
      " loss for epoch 2 is 1.5507462820874724\n",
      " loss for epoch 3 is 0.8702862046366576\n",
      " loss for epoch 4 is 0.5465379811440569\n",
      " loss for epoch 5 is 0.39535256933996343\n",
      " loss for epoch 6 is 0.3418513915824196\n",
      " loss for epoch 7 is 0.30185034439296893\n",
      " loss for epoch 8 is 0.27017886968320526\n",
      " loss for epoch 9 is 0.24403779208977502\n",
      " loss for epoch 10 is 0.2218760513802386\n",
      " loss for epoch 11 is 0.2029111239454843\n",
      " loss for epoch 12 is 0.18656215509694613\n",
      " loss for epoch 13 is 0.1724839532601968\n",
      " loss for epoch 14 is 0.16040949985191486\n",
      " loss for epoch 15 is 0.14937068026851968\n",
      " loss for epoch 16 is 0.1398915040240366\n",
      " loss for epoch 17 is 0.1310661944639191\n",
      " loss for epoch 18 is 0.1234446682078338\n",
      " loss for epoch 19 is 0.1161556757334656\n",
      " loss for epoch 20 is 0.10965474856204585\n",
      "Train Accuracy is 1.0 and Test Accuracy is 0.8\n"
     ]
    },
    {
     "data": {
      "image/png": "[encoded data removed]",
      "text/plain": [
       "<Figure size 432x288 with 1 Axes>"
      ]
     },
     "metadata": {},
     "output_type": "display_data"
    }
   ],
   "source": [
    "\n",
    "num_epochs=20;\n",
    "\n",
    "\n",
    "\n",
    "\n",
    "\n",
    "\n",
    "clf=DNN_classifier(layer_sizes=[12,15,15]); ## input layer, hidden 1, hidden 2\n",
    "\n",
    "loss_list2 = clf.train(x_train_pca,y_train_enc,learning_rate=0.005,num_epochs=num_epochs,is_moment=False);\n",
    "train_acc=clf.accuracy(x_train_pca,y_train_enc)\n",
    "test_acc=clf.accuracy(x_test_pca,y_test_enc)\n",
    "\n",
    "\n",
    "    \n",
    "print('Train Accuracy is {} and Test Accuracy is {}'.format(train_acc,test_acc));\n",
    "\n",
    "plt.grid(True);\n",
    "plt.plot(loss_list2[0:]);\n",
    "plt.xlabel('No of epochs');\n",
    "plt.ylabel('Train CE Loss ')\n",
    "plt.show();\n",
    "del clf "
   ]
  },
  {
   "cell_type": "markdown",
   "metadata": {},
   "source": [
    "### Train Accuracy is 100% and Test Accuracy is 80%\n",
    "\n",
    "### This indicates that the increasing hidden units from 10 to 15 increases the rate of convergence of training loss as for 20 iterations training loss is less in case of 15 units .\n",
    "\n",
    "### This indicates bias is reduced as model complexity increses but as the number of training examples are very less increasing complexity causes overfitting."
   ]
  },
  {
   "cell_type": "markdown",
   "metadata": {},
   "source": [
    "# With momentum and 10 hidden Nodes¶"
   ]
  },
  {
   "cell_type": "code",
   "execution_count": 312,
   "metadata": {
    "scrolled": false
   },
   "outputs": [
    {
     "name": "stdout",
     "output_type": "stream",
     "text": [
      " loss for epoch 1 is 4.666716255051513\n",
      " loss for epoch 2 is 2.792772667508006\n",
      " loss for epoch 3 is 1.2764910563694092\n",
      " loss for epoch 4 is 0.8116713458471665\n",
      " loss for epoch 5 is 0.4766991002787216\n",
      " loss for epoch 6 is 0.3431801406182553\n",
      " loss for epoch 7 is 0.27956130639447274\n",
      " loss for epoch 8 is 0.22514921694631468\n",
      " loss for epoch 9 is 0.19447361635062513\n",
      " loss for epoch 10 is 0.19448402048455368\n",
      " loss for epoch 11 is 0.16383788273843763\n",
      " loss for epoch 12 is 0.13635281013184725\n",
      " loss for epoch 13 is 0.11252789534247461\n",
      " loss for epoch 14 is 0.09675143349913215\n",
      " loss for epoch 15 is 0.08482992094732203\n",
      " loss for epoch 16 is 0.07705253092722944\n",
      " loss for epoch 17 is 0.07321765175842979\n",
      " loss for epoch 18 is 0.06990078135597275\n",
      " loss for epoch 19 is 0.06469009270428254\n",
      " loss for epoch 20 is 0.056704102127701425\n",
      "0.047650392363306315\n",
      "Train Accuracy is 1.0 and Test Accuracy is 1.0\n"
     ]
    },
    {
     "data": {
      "image/png": "[encoded data removed]",
      "text/plain": [
       "<Figure size 432x288 with 1 Axes>"
      ]
     },
     "metadata": {},
     "output_type": "display_data"
    }
   ],
   "source": [
    "from operator import add\n",
    "\n",
    "num_epochs=20;\n",
    "\n",
    "\n",
    "\n",
    "\n",
    "clf=DNN_classifier(layer_sizes=[12,10,10],momentum=0.9); ## input layer, hidden 1, hidden 2\n",
    "\n",
    "loss_list1m = clf.train(x_train_pca,y_train_enc,learning_rate=0.005,num_epochs=num_epochs,is_moment=True);\n",
    "train_acc=clf.accuracy(x_train_pca,y_train_enc)\n",
    "print(clf.ce_loss(x_train_pca,y_train_enc))\n",
    "# test_acc=clf.accuracy(x_test_pca,y_test_enc)\n",
    "#\n",
    "\n",
    "    \n",
    "    \n",
    "print('Train Accuracy is {} and Test Accuracy is {}'.format(train_acc,train_acc));\n",
    "\n",
    "plt.grid(True);\n",
    "plt.plot(loss_list1m);\n",
    "plt.xlabel('No of epochs');\n",
    "plt.ylabel('Train CE Loss ');\n",
    "plt.show();\n",
    "\n",
    "del clf; \n"
   ]
  },
  {
   "cell_type": "markdown",
   "metadata": {},
   "source": [
    "### Train Accuracy is 100% and Test Accuracy is 100% .\n",
    "\n",
    "### Using momentum leads to faster convergence of training loss with a smooth curve."
   ]
  },
  {
   "cell_type": "markdown",
   "metadata": {},
   "source": [
    "# With momentum 15 nodes"
   ]
  },
  {
   "cell_type": "code",
   "execution_count": 330,
   "metadata": {
    "scrolled": false
   },
   "outputs": [
    {
     "name": "stdout",
     "output_type": "stream",
     "text": [
      " loss for epoch 1 is 2.14515621953705\n",
      " loss for epoch 2 is 0.9307028860316455\n",
      " loss for epoch 3 is 0.6552363082115006\n",
      " loss for epoch 4 is 0.6364766530134623\n",
      " loss for epoch 5 is 0.31998987623306496\n",
      " loss for epoch 6 is 0.11867016977733011\n",
      " loss for epoch 7 is 0.10409523295832028\n",
      " loss for epoch 8 is 0.16064748242055685\n",
      " loss for epoch 9 is 0.1621739872872115\n",
      " loss for epoch 10 is 0.11415745009097555\n",
      " loss for epoch 11 is 0.0565945478895208\n",
      " loss for epoch 12 is 0.025606779554894772\n",
      " loss for epoch 13 is 0.016397931100136622\n",
      " loss for epoch 14 is 0.01690431414074614\n",
      " loss for epoch 15 is 0.0232918474452453\n",
      " loss for epoch 16 is 0.030831667802573626\n",
      " loss for epoch 17 is 0.03128054875298848\n",
      " loss for epoch 18 is 0.024132916904416844\n",
      " loss for epoch 19 is 0.016365328131598602\n",
      " loss for epoch 20 is 0.011376654917204757\n",
      "Train Accuracy is 1.0 and Test Accuracy is 0.9\n"
     ]
    },
    {
     "data": {
      "image/png": "[encoded data removed]",
      "text/plain": [
       "<Figure size 432x288 with 1 Axes>"
      ]
     },
     "metadata": {},
     "output_type": "display_data"
    }
   ],
   "source": [
    "from operator import add\n",
    "\n",
    "num_epochs=20;\n",
    "\n",
    "\n",
    "\n",
    "\n",
    "clf=DNN_classifier(layer_sizes=[12,15,15]); ## input layer, hidden 1, hidden 2\n",
    "\n",
    "loss_list2m = clf.train(x_train_pca,y_train_enc,learning_rate=0.005,num_epochs=num_epochs,is_moment=True);\n",
    "train_acc=clf.accuracy(x_train_pca,y_train_enc)\n",
    "test_acc=clf.accuracy(x_test_pca,y_test_enc)\n",
    "\n",
    "\n",
    "    \n",
    "print('Train Accuracy is {} and Test Accuracy is {}'.format(train_acc,test_acc));\n",
    "\n",
    "plt.grid(True);\n",
    "plt.plot(loss_list2m);\n",
    "plt.xlabel('No of epochs');\n",
    "plt.ylabel('Train CE Loss ');\n",
    "plt.show();"
   ]
  },
  {
   "cell_type": "markdown",
   "metadata": {},
   "source": [
    "### Train Accuracy is 100% and Test Accuracy is 90%.\n",
    "\n",
    "\n",
    "### With momentum also the 15 hidden units network was not able to give 100% test accuracy due to overfitting."
   ]
  },
  {
   "cell_type": "markdown",
   "metadata": {},
   "source": [
    "# Comparison of all cases "
   ]
  },
  {
   "cell_type": "code",
   "execution_count": 331,
   "metadata": {},
   "outputs": [
    {
     "data": {
      "image/png": "[encoded data removed]",
      "text/plain": [
       "<Figure size 1008x576 with 1 Axes>"
      ]
     },
     "metadata": {},
     "output_type": "display_data"
    }
   ],
   "source": [
    "\n",
    "plt.figure(figsize=(14,8))\n",
    "plt.plot(loss_list1);\n",
    "plt.plot(loss_list2)\n",
    "plt.plot(loss_list1m)\n",
    "plt.plot(loss_list2m)\n",
    "\n",
    "plt.xlabel('No of epochs');\n",
    "plt.ylabel('Train CE Loss ');\n",
    "plt.grid(True);\n",
    "plt.legend(['10 nodes without momentum','15 nodes without momentum','10 nodes with momentum','15 nodes with momentum'])\n",
    "plt.show();"
   ]
  },
  {
   "cell_type": "markdown",
   "metadata": {},
   "source": [
    "# Conclusions "
   ]
  },
  {
   "cell_type": "markdown",
   "metadata": {},
   "source": [
    "### 1. The network with 10 hidden units without momentum seems to have some sort of spikes in training loss which indicates gradients obtained without momentum were noisy .\n",
    "\n",
    "### 2. When Momentum applied to 10 hidden units network the training loss converges faster to its minimum value compared to 10 units without momentum, with a smooth curve indicating momentum reduces the update in noisy gradient directions and boost up update in oscillating gradients directions.\n",
    "\n",
    "### 3. Same above arguments can be given for 15 hidden nodes.\n",
    "\n",
    "### 4. It can be also seen that the training loss decreases more fastly with 15 hidden units  than with 10 hidden nodes and it is supported by the fact that model becomes more complex but on the other hand test accuracy decreases as hidden layer size is increased and model starts overfitting the training data which is very limited."
   ]
  }
 ],
 "metadata": {
  "kernelspec": {
   "display_name": "Python 3",
   "language": "python",
   "name": "python3"
  },
  "language_info": {
   "codemirror_mode": {
    "name": "ipython",
    "version": 3
   },
   "file_extension": ".py",
   "mimetype": "text/x-python",
   "name": "python",
   "nbconvert_exporter": "python",
   "pygments_lexer": "ipython3",
   "version": "3.6.3"
  }
 },
 "nbformat": 4,
 "nbformat_minor": 2
}
